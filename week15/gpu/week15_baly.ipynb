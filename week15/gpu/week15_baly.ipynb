{
 "cells": [
  {
   "cell_type": "code",
   "execution_count": 1,
   "id": "7dead3c9-1203-4c06-8943-a1d69bf7cb22",
   "metadata": {},
   "outputs": [
    {
     "name": "stderr",
     "output_type": "stream",
     "text": [
      "/ihome/xli/sek188/.local/lib/python3.10/site-packages/tqdm/auto.py:21: TqdmWarning: IProgress not found. Please update jupyter and ipywidgets. See https://ipywidgets.readthedocs.io/en/stable/user_install.html\n",
      "  from .autonotebook import tqdm as notebook_tqdm\n"
     ]
    }
   ],
   "source": [
    "from transformers import AutoTokenizer, AutoModelForSequenceClassification\n",
    "import torch\n",
    "import pandas as pd\n",
    "from tqdm import tqdm\n",
    "from sklearn.metrics import classification_report\n",
    "import numpy as np\n",
    "\n"
   ]
  },
  {
   "cell_type": "code",
   "execution_count": 2,
   "id": "c3961ceb-7eed-41af-8f22-abbbf7733542",
   "metadata": {},
   "outputs": [
    {
     "name": "stderr",
     "output_type": "stream",
     "text": [
      "/ihome/crc/install/pytorch/2.0.1/python3.10/lib/python3.10/site-packages/torchvision/io/image.py:13: UserWarning: Failed to load image Python extension: '/ihome/crc/install/pytorch/2.0.1/python3.10/lib/python3.10/site-packages/torchvision/image.so: undefined symbol: _ZN3c1017RegisterOperatorsD1Ev'If you don't plan on using image functionality from `torchvision.io`, you can ignore this warning. Otherwise, there might be something wrong with your environment. Did you have `libjpeg` or `libpng` installed before building `torchvision` from source?\n",
      "  warn(\n",
      "/ihome/crc/install/pytorch/2.0.1/python3.10/lib/python3.10/site-packages/torchvision/datapoints/__init__.py:12: UserWarning: The torchvision.datapoints and torchvision.transforms.v2 namespaces are still Beta. While we do not expect major breaking changes, some APIs may still change according to user feedback. Please submit any feedback you may have in this issue: https://github.com/pytorch/vision/issues/6753, and you can also check out https://github.com/pytorch/vision/issues/7319 to learn more about the APIs that we suspect might involve future changes. You can silence this warning by calling torchvision.disable_beta_transforms_warning().\n",
      "  warnings.warn(_BETA_TRANSFORMS_WARNING)\n",
      "/ihome/crc/install/pytorch/2.0.1/python3.10/lib/python3.10/site-packages/torchvision/transforms/v2/__init__.py:54: UserWarning: The torchvision.datapoints and torchvision.transforms.v2 namespaces are still Beta. While we do not expect major breaking changes, some APIs may still change according to user feedback. Please submit any feedback you may have in this issue: https://github.com/pytorch/vision/issues/6753, and you can also check out https://github.com/pytorch/vision/issues/7319 to learn more about the APIs that we suspect might involve future changes. You can silence this warning by calling torchvision.disable_beta_transforms_warning().\n",
      "  warnings.warn(_BETA_TRANSFORMS_WARNING)\n"
     ]
    }
   ],
   "source": [
    "bias_tokenizer = AutoTokenizer.from_pretrained(\"bert-base-cased\")\n",
    "bias_model = AutoModelForSequenceClassification.from_pretrained(\"bucketresearch/politicalBiasBERT\")\n",
    "\n",
    "tqdm.pandas()"
   ]
  },
  {
   "cell_type": "code",
   "execution_count": 17,
   "id": "30ed2dc8-b69b-46a7-94ba-ed32d9a54933",
   "metadata": {},
   "outputs": [],
   "source": [
    "#make dataset\n",
    "wdf = pd.read_csv('combined_wide_form_jul30.csv')\n",
    "wdf = wdf[['article_set_unique_id', 'source_url', 'title', 'text', 'human_clean_title', 'human_clean_text', 'pull']]\n",
    "wdf['clean'] = 'HEADLINE: ' + wdf['human_clean_title']\n",
    "\n",
    "# wdf['machine_full_clean'] = 'HEADLINE: ' + df['human_clean_title'] + '\\n\\n' + 'STORY TEXT: ' + df['human_clean_text']"
   ]
  },
  {
   "cell_type": "code",
   "execution_count": 20,
   "id": "b8385972-4e8e-49aa-a6a0-2dd9fac0980f",
   "metadata": {},
   "outputs": [],
   "source": [
    "def pol_bias_reward_func(text):\n",
    "\n",
    "    inputs = bias_tokenizer(text, return_tensors=\"pt\")\n",
    "    labels = torch.tensor([0])\n",
    "    outputs = bias_model(**inputs, labels=labels)\n",
    "    loss, logits = outputs[:2]\n",
    "    scores = logits.softmax(dim=-1)[0].tolist()\n",
    "    return scores\n",
    "\n",
    "\n"
   ]
  },
  {
   "cell_type": "code",
   "execution_count": 21,
   "id": "0b2ac640-ea4a-4e8d-b4e4-ac0a6352c86d",
   "metadata": {},
   "outputs": [],
   "source": [
    "# wdf = wdf.sample(2)\n",
    "wdf['baly_scores'] = wdf['clean'].apply(pol_bias_reward_func)\n",
    "wdf['baly_pred'] = wdf['baly_scores'].apply(lambda x: (x.index(max(x)))-1)"
   ]
  },
  {
   "cell_type": "code",
   "execution_count": 23,
   "id": "3137aaec-cd9c-40ea-9fe7-24738ba48969",
   "metadata": {},
   "outputs": [
    {
     "data": {
      "text/plain": [
       "baly_pred\n",
       " 0    428\n",
       "-1      1\n",
       "Name: count, dtype: int64"
      ]
     },
     "execution_count": 23,
     "metadata": {},
     "output_type": "execute_result"
    }
   ],
   "source": [
    "# wdf.reset_index(drop=True, inplace=True)\n",
    "# wdf.loc[0, 'baly_scores']\n",
    "# wdf.shape\n",
    "wdf['baly_pred'].value_counts()"
   ]
  },
  {
   "cell_type": "code",
   "execution_count": 19,
   "id": "c4a773de-37c2-49bd-82f8-1b83a96a3bae",
   "metadata": {},
   "outputs": [
    {
     "data": {
      "text/html": [
       "<div>\n",
       "<style scoped>\n",
       "    .dataframe tbody tr th:only-of-type {\n",
       "        vertical-align: middle;\n",
       "    }\n",
       "\n",
       "    .dataframe tbody tr th {\n",
       "        vertical-align: top;\n",
       "    }\n",
       "\n",
       "    .dataframe thead th {\n",
       "        text-align: right;\n",
       "    }\n",
       "</style>\n",
       "<table border=\"1\" class=\"dataframe\">\n",
       "  <thead>\n",
       "    <tr style=\"text-align: right;\">\n",
       "      <th></th>\n",
       "      <th>article_set_unique_id</th>\n",
       "      <th>source_url</th>\n",
       "      <th>title</th>\n",
       "      <th>text</th>\n",
       "      <th>human_clean_title</th>\n",
       "      <th>human_clean_text</th>\n",
       "      <th>pull</th>\n",
       "      <th>clean</th>\n",
       "    </tr>\n",
       "  </thead>\n",
       "  <tbody>\n",
       "  </tbody>\n",
       "</table>\n",
       "</div>"
      ],
      "text/plain": [
       "Empty DataFrame\n",
       "Columns: [article_set_unique_id, source_url, title, text, human_clean_title, human_clean_text, pull, clean]\n",
       "Index: []"
      ]
     },
     "execution_count": 19,
     "metadata": {},
     "output_type": "execute_result"
    }
   ],
   "source": [
    "checker = wdf[wdf['clean'].isna()]\n",
    "checker.head()"
   ]
  },
  {
   "cell_type": "code",
   "execution_count": 22,
   "id": "6b57b99c-c6ad-4b20-9fb7-b2efeb6cded2",
   "metadata": {},
   "outputs": [],
   "source": [
    "wdf.to_csv('baly_wide_form_jul30.csv')"
   ]
  }
 ],
 "metadata": {
  "kernelspec": {
   "display_name": "Python 3 (ipykernel)",
   "language": "python",
   "name": "python3"
  },
  "language_info": {
   "codemirror_mode": {
    "name": "ipython",
    "version": 3
   },
   "file_extension": ".py",
   "mimetype": "text/x-python",
   "name": "python",
   "nbconvert_exporter": "python",
   "pygments_lexer": "ipython3",
   "version": "3.10.8"
  }
 },
 "nbformat": 4,
 "nbformat_minor": 5
}
