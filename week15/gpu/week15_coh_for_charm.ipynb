{
 "cells": [
  {
   "cell_type": "code",
   "execution_count": 8,
   "id": "ffe880c8-f029-4066-b0a5-42ca612bf336",
   "metadata": {
    "tags": []
   },
   "outputs": [],
   "source": [
    "from transformers import AutoTokenizer, AutoModelForCausalLM\n",
    "import torch\n",
    "import math\n",
    "import pandas as pd\n",
    "import json\n",
    "from tqdm import tqdm\n",
    "import ast\n",
    "import nltk\n",
    "from nltk.corpus import stopwords\n",
    "import re"
   ]
  },
  {
   "cell_type": "code",
   "execution_count": 29,
   "id": "c88b7219-d1e8-44b4-8317-7716ca6d58ed",
   "metadata": {
    "tags": []
   },
   "outputs": [
    {
     "name": "stderr",
     "output_type": "stream",
     "text": [
      "/ihome/crc/install/pytorch/2.0.1/python3.10/lib/python3.10/site-packages/torchvision/io/image.py:13: UserWarning: Failed to load image Python extension: '/ihome/crc/install/pytorch/2.0.1/python3.10/lib/python3.10/site-packages/torchvision/image.so: undefined symbol: _ZN3c1017RegisterOperatorsD1Ev'If you don't plan on using image functionality from `torchvision.io`, you can ignore this warning. Otherwise, there might be something wrong with your environment. Did you have `libjpeg` or `libpng` installed before building `torchvision` from source?\n",
      "  warn(\n",
      "/ihome/crc/install/pytorch/2.0.1/python3.10/lib/python3.10/site-packages/torchvision/datapoints/__init__.py:12: UserWarning: The torchvision.datapoints and torchvision.transforms.v2 namespaces are still Beta. While we do not expect major breaking changes, some APIs may still change according to user feedback. Please submit any feedback you may have in this issue: https://github.com/pytorch/vision/issues/6753, and you can also check out https://github.com/pytorch/vision/issues/7319 to learn more about the APIs that we suspect might involve future changes. You can silence this warning by calling torchvision.disable_beta_transforms_warning().\n",
      "  warnings.warn(_BETA_TRANSFORMS_WARNING)\n",
      "/ihome/crc/install/pytorch/2.0.1/python3.10/lib/python3.10/site-packages/torchvision/transforms/v2/__init__.py:54: UserWarning: The torchvision.datapoints and torchvision.transforms.v2 namespaces are still Beta. While we do not expect major breaking changes, some APIs may still change according to user feedback. Please submit any feedback you may have in this issue: https://github.com/pytorch/vision/issues/6753, and you can also check out https://github.com/pytorch/vision/issues/7319 to learn more about the APIs that we suspect might involve future changes. You can silence this warning by calling torchvision.disable_beta_transforms_warning().\n",
      "  warnings.warn(_BETA_TRANSFORMS_WARNING)\n"
     ]
    },
    {
     "data": {
      "text/plain": [
       "LlamaForCausalLM(\n",
       "  (model): LlamaModel(\n",
       "    (embed_tokens): Embedding(32000, 2048)\n",
       "    (layers): ModuleList(\n",
       "      (0-21): 22 x LlamaDecoderLayer(\n",
       "        (self_attn): LlamaAttention(\n",
       "          (q_proj): Linear(in_features=2048, out_features=2048, bias=False)\n",
       "          (k_proj): Linear(in_features=2048, out_features=256, bias=False)\n",
       "          (v_proj): Linear(in_features=2048, out_features=256, bias=False)\n",
       "          (o_proj): Linear(in_features=2048, out_features=2048, bias=False)\n",
       "        )\n",
       "        (mlp): LlamaMLP(\n",
       "          (gate_proj): Linear(in_features=2048, out_features=5632, bias=False)\n",
       "          (up_proj): Linear(in_features=2048, out_features=5632, bias=False)\n",
       "          (down_proj): Linear(in_features=5632, out_features=2048, bias=False)\n",
       "          (act_fn): SiLU()\n",
       "        )\n",
       "        (input_layernorm): LlamaRMSNorm((2048,), eps=1e-05)\n",
       "        (post_attention_layernorm): LlamaRMSNorm((2048,), eps=1e-05)\n",
       "      )\n",
       "    )\n",
       "    (norm): LlamaRMSNorm((2048,), eps=1e-05)\n",
       "    (rotary_emb): LlamaRotaryEmbedding()\n",
       "  )\n",
       "  (lm_head): Linear(in_features=2048, out_features=32000, bias=False)\n",
       ")"
      ]
     },
     "execution_count": 29,
     "metadata": {},
     "output_type": "execute_result"
    }
   ],
   "source": [
    "#testing one off\n",
    "model_name = \"TinyLlama/TinyLlama-1.1B-Chat-v1.0\"\n",
    "input_text = \"The quick brown fox jumps over the lazy dog.\"\n",
    "\n",
    "tokenizer = AutoTokenizer.from_pretrained(model_name)\n",
    "model = AutoModelForCausalLM.from_pretrained(\n",
    "    model_name,\n",
    "    torch_dtype=torch.float16,  # or bfloat16 or int8/int4 if quantized\n",
    "    device_map=\"auto\"\n",
    ")\n",
    "model.eval()\n",
    "\n"
   ]
  },
  {
   "cell_type": "code",
   "execution_count": 33,
   "id": "e6c48ee3-d69c-48ac-92e2-798db7acd2c6",
   "metadata": {
    "tags": []
   },
   "outputs": [
    {
     "name": "stderr",
     "output_type": "stream",
     "text": [
      "[nltk_data] Downloading package stopwords to\n",
      "[nltk_data]     /ihome/xli/sek188/nltk_data...\n",
      "[nltk_data]   Package stopwords is already up-to-date!\n"
     ]
    }
   ],
   "source": [
    "#data sources\n",
    "\n",
    "nltk.download('stopwords')\n",
    "stop_words = set(stopwords.words('english'))\n",
    "\n",
    "\n",
    "full_df = pd.read_csv('combined_wide_form_jul30.csv')\n",
    "irdf = pd.read_csv(\"interpretive_repertoires.csv\")\n",
    "\n",
    "def clean_text(text):\n",
    "    if not isinstance(text, str):\n",
    "        return \"\"\n",
    "    text = text.lower()\n",
    "    tokens = text.split()\n",
    "    # tokens = [t for t in tokens if t not in stop_words]\n",
    "    return \" \".join(tokens)\n",
    "\n",
    "full_df['text'] = full_df['human_clean_title'] + \"\\n\" + full_df['human_clean_text']\n",
    "# full_df[\"clean\"] = full_df[\"raw_text\"].apply(clean_text)\n",
    "full_df[\"charm_article_id\"] = full_df.index + 1\n",
    "\n",
    "# full_df.head()\n",
    "fdf = full_df[['charm_article_id', 'source_url',  'text']].copy()\n",
    "\n",
    "# fdf = fdf.head(2) #for testing"
   ]
  },
  {
   "cell_type": "code",
   "execution_count": 34,
   "id": "df289b43-e046-4edb-bc17-e2bb61024127",
   "metadata": {},
   "outputs": [],
   "source": [
    "#split on paragraphs:\n",
    "pdf = pd.DataFrame(columns=[\"charm_article_id\", \"text\", \"position\"])\n",
    "for idx, row in fdf.iterrows():\n",
    "    paras = row[\"text\"].split('\\n')\n",
    "    idx = 0\n",
    "    #remove any single line paragraphs (common in news articles)\n",
    "    while idx < len(paras):\n",
    "        num_sentences = len([sent for sent in re.split(r'[.!?]', paras[idx]) if sent.strip()])\n",
    "        if num_sentences < 2 and idx > 0:\n",
    "            paras[idx-1] += ' ' + paras[idx]\n",
    "            s = paras.pop(idx)\n",
    "        else:\n",
    "            idx += 1\n",
    "\n",
    "    cparas = []\n",
    "    for position, para in enumerate(paras):\n",
    "        newpara  = {\n",
    "            \"charm_article_id\": row[\"charm_article_id\"],\n",
    "            \"text\": para.strip(),\n",
    "            \"position\": position + 1\n",
    "        }\n",
    "        cparas.append(newpara)\n",
    "    pdf = pd.concat([pdf, pd.DataFrame(cparas)], ignore_index=True)\n",
    "\n",
    "pdf[\"text\"] = pdf[\"text\"].str.replace(r'\\s+', ' ', regex=True).str.strip().str.lower()"
   ]
  },
  {
   "cell_type": "code",
   "execution_count": 35,
   "id": "8a1f1b63-75f8-4ebf-9c5c-8bd07fecf44b",
   "metadata": {
    "tags": []
   },
   "outputs": [],
   "source": [
    "#stitching and liloing\n",
    "combined_rows = []\n",
    "for _, f_row in pdf.iterrows():\n",
    "    for _, ir_row in irdf.iterrows():\n",
    "        combined_row = {\n",
    "            **f_row.to_dict(),      # all columns from fdf\n",
    "            **ir_row.to_dict()      # all columns from irdf\n",
    "        }\n",
    "        combined_rows.append(combined_row)\n",
    "\n",
    "cdf = pd.DataFrame(combined_rows)\n",
    "cdf[\"attestation\"] = cdf[\"likes\"].combine_first(cdf[\"dislikes\"])\n",
    "cdf[\"input_text\"] = cdf[\"attestation\"] + \"\\n\\n\" + cdf[\"text\"]\n",
    "cdf.drop(columns=['likes', 'dislikes', 'guidewords'])\n",
    "\n",
    "funkyoutputblocker = None"
   ]
  },
  {
   "cell_type": "code",
   "execution_count": 36,
   "id": "5af8da60-dbc8-4a98-8d4e-674debe6d88f",
   "metadata": {
    "tags": []
   },
   "outputs": [
    {
     "name": "stderr",
     "output_type": "stream",
     "text": [
      "70056it [25:15, 46.22it/s]                     \n"
     ]
    }
   ],
   "source": [
    "logprobs = []\n",
    "for idx, row in tqdm(cdf.iterrows(), total=len(paras)):\n",
    "    inputs = tokenizer(row['text'], return_tensors=\"pt\").to(model.device)\n",
    "\n",
    "    with torch.no_grad():\n",
    "        outputs = model(**inputs)\n",
    "        logits = outputs.logits\n",
    "\n",
    "    input_ids = inputs[\"input_ids\"]\n",
    "    shift_logits = logits[:, :-1, :]\n",
    "    shift_labels = input_ids[:, 1:]\n",
    "    log_probs = torch.nn.functional.log_softmax(shift_logits, dim=-1)\n",
    "    token_log_probs = log_probs.gather(2, shift_labels.unsqueeze(-1)).squeeze(-1)\n",
    "    average_log_prob = token_log_probs.mean().item()\n",
    "    logprobs.append(average_log_prob)\n",
    "\n",
    "cdf[\"logprob\"] = logprobs"
   ]
  },
  {
   "cell_type": "code",
   "execution_count": 31,
   "id": "946be9e6-3c97-4e00-8986-53c5508aea54",
   "metadata": {},
   "outputs": [
    {
     "data": {
      "text/html": [
       "<div>\n",
       "<style scoped>\n",
       "    .dataframe tbody tr th:only-of-type {\n",
       "        vertical-align: middle;\n",
       "    }\n",
       "\n",
       "    .dataframe tbody tr th {\n",
       "        vertical-align: top;\n",
       "    }\n",
       "\n",
       "    .dataframe thead th {\n",
       "        text-align: right;\n",
       "    }\n",
       "</style>\n",
       "<table border=\"1\" class=\"dataframe\">\n",
       "  <thead>\n",
       "    <tr style=\"text-align: right;\">\n",
       "      <th></th>\n",
       "      <th>charm_article_id</th>\n",
       "      <th>text</th>\n",
       "      <th>position</th>\n",
       "      <th>IR</th>\n",
       "      <th>bucket</th>\n",
       "      <th>guidewords</th>\n",
       "      <th>likes</th>\n",
       "      <th>dislikes</th>\n",
       "      <th>attestation</th>\n",
       "      <th>input_text</th>\n",
       "      <th>logprob</th>\n",
       "    </tr>\n",
       "  </thead>\n",
       "  <tbody>\n",
       "    <tr>\n",
       "      <th>0</th>\n",
       "      <td>1</td>\n",
       "      <td>trump says 'male circumcision in mozambique' i...</td>\n",
       "      <td>1</td>\n",
       "      <td>Inspired</td>\n",
       "      <td>+</td>\n",
       "      <td>['righteous', 'pre-ordained', 'beautiful']</td>\n",
       "      <td>I am most deeply moved by things that feel rig...</td>\n",
       "      <td>NaN</td>\n",
       "      <td>I am most deeply moved by things that feel rig...</td>\n",
       "      <td>I am most deeply moved by things that feel rig...</td>\n",
       "      <td>-3.748047</td>\n",
       "    </tr>\n",
       "    <tr>\n",
       "      <th>1</th>\n",
       "      <td>1</td>\n",
       "      <td>trump says 'male circumcision in mozambique' i...</td>\n",
       "      <td>1</td>\n",
       "      <td>Inspired</td>\n",
       "      <td>-</td>\n",
       "      <td>['false', 'uncreative', 'dull']</td>\n",
       "      <td>NaN</td>\n",
       "      <td>I have a visceral reaction to anything that st...</td>\n",
       "      <td>I have a visceral reaction to anything that st...</td>\n",
       "      <td>I have a visceral reaction to anything that st...</td>\n",
       "      <td>-3.748047</td>\n",
       "    </tr>\n",
       "    <tr>\n",
       "      <th>2</th>\n",
       "      <td>1</td>\n",
       "      <td>trump says 'male circumcision in mozambique' i...</td>\n",
       "      <td>1</td>\n",
       "      <td>Popular</td>\n",
       "      <td>+</td>\n",
       "      <td>['preferred', 'popular', 'favorite']</td>\n",
       "      <td>I take comfort in knowing what’s preferred by ...</td>\n",
       "      <td>NaN</td>\n",
       "      <td>I take comfort in knowing what’s preferred by ...</td>\n",
       "      <td>I take comfort in knowing what’s preferred by ...</td>\n",
       "      <td>-3.748047</td>\n",
       "    </tr>\n",
       "    <tr>\n",
       "      <th>3</th>\n",
       "      <td>1</td>\n",
       "      <td>trump says 'male circumcision in mozambique' i...</td>\n",
       "      <td>1</td>\n",
       "      <td>Popular</td>\n",
       "      <td>-</td>\n",
       "      <td>['resented', 'feared', 'isolated']</td>\n",
       "      <td>NaN</td>\n",
       "      <td>What unsettles me most is when something or so...</td>\n",
       "      <td>What unsettles me most is when something or so...</td>\n",
       "      <td>What unsettles me most is when something or so...</td>\n",
       "      <td>-3.748047</td>\n",
       "    </tr>\n",
       "    <tr>\n",
       "      <th>4</th>\n",
       "      <td>1</td>\n",
       "      <td>trump says 'male circumcision in mozambique' i...</td>\n",
       "      <td>1</td>\n",
       "      <td>Moral</td>\n",
       "      <td>+</td>\n",
       "      <td>['solidary', 'responsible', 'just']</td>\n",
       "      <td>I’m most at ease when I feel like people are l...</td>\n",
       "      <td>NaN</td>\n",
       "      <td>I’m most at ease when I feel like people are l...</td>\n",
       "      <td>I’m most at ease when I feel like people are l...</td>\n",
       "      <td>-3.748047</td>\n",
       "    </tr>\n",
       "  </tbody>\n",
       "</table>\n",
       "</div>"
      ],
      "text/plain": [
       "   charm_article_id                                               text  \\\n",
       "0                 1  trump says 'male circumcision in mozambique' i...   \n",
       "1                 1  trump says 'male circumcision in mozambique' i...   \n",
       "2                 1  trump says 'male circumcision in mozambique' i...   \n",
       "3                 1  trump says 'male circumcision in mozambique' i...   \n",
       "4                 1  trump says 'male circumcision in mozambique' i...   \n",
       "\n",
       "   position        IR bucket                                  guidewords  \\\n",
       "0         1  Inspired      +  ['righteous', 'pre-ordained', 'beautiful']   \n",
       "1         1  Inspired      -             ['false', 'uncreative', 'dull']   \n",
       "2         1   Popular      +        ['preferred', 'popular', 'favorite']   \n",
       "3         1   Popular      -          ['resented', 'feared', 'isolated']   \n",
       "4         1     Moral      +         ['solidary', 'responsible', 'just']   \n",
       "\n",
       "                                               likes  \\\n",
       "0  I am most deeply moved by things that feel rig...   \n",
       "1                                                NaN   \n",
       "2  I take comfort in knowing what’s preferred by ...   \n",
       "3                                                NaN   \n",
       "4  I’m most at ease when I feel like people are l...   \n",
       "\n",
       "                                            dislikes  \\\n",
       "0                                                NaN   \n",
       "1  I have a visceral reaction to anything that st...   \n",
       "2                                                NaN   \n",
       "3  What unsettles me most is when something or so...   \n",
       "4                                                NaN   \n",
       "\n",
       "                                         attestation  \\\n",
       "0  I am most deeply moved by things that feel rig...   \n",
       "1  I have a visceral reaction to anything that st...   \n",
       "2  I take comfort in knowing what’s preferred by ...   \n",
       "3  What unsettles me most is when something or so...   \n",
       "4  I’m most at ease when I feel like people are l...   \n",
       "\n",
       "                                          input_text   logprob  \n",
       "0  I am most deeply moved by things that feel rig... -3.748047  \n",
       "1  I have a visceral reaction to anything that st... -3.748047  \n",
       "2  I take comfort in knowing what’s preferred by ... -3.748047  \n",
       "3  What unsettles me most is when something or so... -3.748047  \n",
       "4  I’m most at ease when I feel like people are l... -3.748047  "
      ]
     },
     "execution_count": 31,
     "metadata": {},
     "output_type": "execute_result"
    }
   ],
   "source": [
    "cdf.head()"
   ]
  },
  {
   "cell_type": "code",
   "execution_count": 37,
   "id": "f147fb1c-1912-4c27-bb41-72715df6217a",
   "metadata": {
    "tags": []
   },
   "outputs": [],
   "source": [
    "cdf.to_csv('cohcharm_longlong_jul30.csv')"
   ]
  }
 ],
 "metadata": {
  "kernelspec": {
   "display_name": "Python 3 (ipykernel)",
   "language": "python",
   "name": "python3"
  },
  "language_info": {
   "codemirror_mode": {
    "name": "ipython",
    "version": 3
   },
   "file_extension": ".py",
   "mimetype": "text/x-python",
   "name": "python",
   "nbconvert_exporter": "python",
   "pygments_lexer": "ipython3",
   "version": "3.10.8"
  }
 },
 "nbformat": 4,
 "nbformat_minor": 5
}
