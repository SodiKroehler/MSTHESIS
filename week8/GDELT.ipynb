{
 "cells": [
  {
   "cell_type": "code",
   "execution_count": 1,
   "id": "3273adbf",
   "metadata": {
    "id": "3273adbf",
    "tags": []
   },
   "outputs": [
    {
     "name": "stdout",
     "output_type": "stream",
     "text": [
      "--2025-03-26 18:05:44--  http://data.gdeltproject.org/gdeltv2/masterfilelist.txt\n",
      "Resolving data.gdeltproject.org (data.gdeltproject.org)... 142.250.31.207, 142.251.167.207, 172.253.122.207, ...\n",
      "Connecting to data.gdeltproject.org (data.gdeltproject.org)|142.250.31.207|:80... connected.\n",
      "HTTP request sent, awaiting response... 200 OK\n",
      "Length: 111688014 (107M) [text/plain]\n",
      "Saving to: ‘masterfilelist.txt’\n",
      "\n",
      "100%[======================================>] 111,688,014 9.68MB/s   in 13s    \n",
      "\n",
      "2025-03-26 18:05:59 (8.26 MB/s) - ‘masterfilelist.txt’ saved [111688014/111688014]\n",
      "\n"
     ]
    }
   ],
   "source": [
    "!wget \"http://data.gdeltproject.org/gdeltv2/masterfilelist.txt\""
   ]
  },
  {
   "cell_type": "code",
   "execution_count": 12,
   "id": "b7f0c654",
   "metadata": {
    "colab": {
     "base_uri": "https://localhost:8080/"
    },
    "id": "b7f0c654",
    "outputId": "bfca352a-ca7d-4a14-b89d-a870415294a6",
    "tags": []
   },
   "outputs": [
    {
     "name": "stdout",
     "output_type": "stream",
     "text": [
      "Collecting feedfinder2\n",
      "  Using cached feedfinder2-0.0.4.tar.gz (3.3 kB)\n",
      "  Preparing metadata (setup.py) ... \u001b[?25lerror\n",
      "  \u001b[1;31merror\u001b[0m: \u001b[1msubprocess-exited-with-error\u001b[0m\n",
      "  \n",
      "  \u001b[31m×\u001b[0m \u001b[32mpython setup.py egg_info\u001b[0m did not run successfully.\n",
      "  \u001b[31m│\u001b[0m exit code: \u001b[1;36m1\u001b[0m\n",
      "  \u001b[31m╰─>\u001b[0m \u001b[31m[1 lines of output]\u001b[0m\n",
      "  \u001b[31m   \u001b[0m ERROR: Can not execute `setup.py` since setuptools is not available in the build environment.\n",
      "  \u001b[31m   \u001b[0m \u001b[31m[end of output]\u001b[0m\n",
      "  \n",
      "  \u001b[1;35mnote\u001b[0m: This error originates from a subprocess, and is likely not a problem with pip.\n",
      "\u001b[1;31merror\u001b[0m: \u001b[1mmetadata-generation-failed\u001b[0m\n",
      "\n",
      "\u001b[31m×\u001b[0m Encountered error while generating package metadata.\n",
      "\u001b[31m╰─>\u001b[0m See above for output.\n",
      "\n",
      "\u001b[1;35mnote\u001b[0m: This is an issue with the package mentioned above, not pip.\n",
      "\u001b[1;36mhint\u001b[0m: See above for details.\n",
      "\u001b[?25h"
     ]
    }
   ],
   "source": [
    "\n",
    "# !pip install newspaper3k\n",
    "# !pip install --user --no-build-isolation newspaper3k\n",
    "\n",
    "# !pip install --user --upgrade setuptools wheel\n",
    "\n",
    "# !pip install --user --no-build-isolation feedfinder2\n",
    "\n",
    "# !pip install --user newspaper3k\n",
    "\n",
    "\n",
    "# !pip install lxml_html_clean"
   ]
  },
  {
   "cell_type": "code",
   "execution_count": 4,
   "id": "3f84d1ea",
   "metadata": {
    "id": "3f84d1ea",
    "tags": []
   },
   "outputs": [
    {
     "name": "stderr",
     "output_type": "stream",
     "text": [
      "\n",
      "A module that was compiled using NumPy 1.x cannot be run in\n",
      "NumPy 2.2.2 as it may crash. To support both 1.x and 2.x\n",
      "versions of NumPy, modules must be compiled with NumPy 2.0.\n",
      "Some module may need to rebuild instead e.g. with 'pybind11>=2.12'.\n",
      "\n",
      "If you are a user of the module, the easiest solution will be to\n",
      "downgrade to 'numpy<2' or try to upgrade the affected module.\n",
      "We expect that some modules will need time to support NumPy 2.\n",
      "\n",
      "Traceback (most recent call last):  File \"<frozen runpy>\", line 198, in _run_module_as_main\n",
      "  File \"<frozen runpy>\", line 88, in _run_code\n",
      "  File \"/ihome/crc/install/python/ondemand-jupyter-python3.11-2023.09/lib/python3.11/site-packages/ipykernel_launcher.py\", line 17, in <module>\n",
      "    app.launch_new_instance()\n",
      "  File \"/ihome/crc/install/python/ondemand-jupyter-python3.11-2023.09/lib/python3.11/site-packages/traitlets/config/application.py\", line 992, in launch_instance\n",
      "    app.start()\n",
      "  File \"/ihome/crc/install/python/ondemand-jupyter-python3.11-2023.09/lib/python3.11/site-packages/ipykernel/kernelapp.py\", line 736, in start\n",
      "    self.io_loop.start()\n",
      "  File \"/ihome/crc/install/python/ondemand-jupyter-python3.11-2023.09/lib/python3.11/site-packages/tornado/platform/asyncio.py\", line 195, in start\n",
      "    self.asyncio_loop.run_forever()\n",
      "  File \"/ihome/crc/install/python/ondemand-jupyter-python3.11-2023.09/lib/python3.11/asyncio/base_events.py\", line 607, in run_forever\n",
      "    self._run_once()\n",
      "  File \"/ihome/crc/install/python/ondemand-jupyter-python3.11-2023.09/lib/python3.11/asyncio/base_events.py\", line 1922, in _run_once\n",
      "    handle._run()\n",
      "  File \"/ihome/crc/install/python/ondemand-jupyter-python3.11-2023.09/lib/python3.11/asyncio/events.py\", line 80, in _run\n",
      "    self._context.run(self._callback, *self._args)\n",
      "  File \"/ihome/crc/install/python/ondemand-jupyter-python3.11-2023.09/lib/python3.11/site-packages/ipykernel/kernelbase.py\", line 516, in dispatch_queue\n",
      "    await self.process_one()\n",
      "  File \"/ihome/crc/install/python/ondemand-jupyter-python3.11-2023.09/lib/python3.11/site-packages/ipykernel/kernelbase.py\", line 505, in process_one\n",
      "    await dispatch(*args)\n",
      "  File \"/ihome/crc/install/python/ondemand-jupyter-python3.11-2023.09/lib/python3.11/site-packages/ipykernel/kernelbase.py\", line 412, in dispatch_shell\n",
      "    await result\n",
      "  File \"/ihome/crc/install/python/ondemand-jupyter-python3.11-2023.09/lib/python3.11/site-packages/ipykernel/kernelbase.py\", line 740, in execute_request\n",
      "    reply_content = await reply_content\n",
      "  File \"/ihome/crc/install/python/ondemand-jupyter-python3.11-2023.09/lib/python3.11/site-packages/ipykernel/ipkernel.py\", line 422, in do_execute\n",
      "    res = shell.run_cell(\n",
      "  File \"/ihome/crc/install/python/ondemand-jupyter-python3.11-2023.09/lib/python3.11/site-packages/ipykernel/zmqshell.py\", line 546, in run_cell\n",
      "    return super().run_cell(*args, **kwargs)\n",
      "  File \"/ihome/crc/install/python/ondemand-jupyter-python3.11-2023.09/lib/python3.11/site-packages/IPython/core/interactiveshell.py\", line 3024, in run_cell\n",
      "    result = self._run_cell(\n",
      "  File \"/ihome/crc/install/python/ondemand-jupyter-python3.11-2023.09/lib/python3.11/site-packages/IPython/core/interactiveshell.py\", line 3079, in _run_cell\n",
      "    result = runner(coro)\n",
      "  File \"/ihome/crc/install/python/ondemand-jupyter-python3.11-2023.09/lib/python3.11/site-packages/IPython/core/async_helpers.py\", line 129, in _pseudo_sync_runner\n",
      "    coro.send(None)\n",
      "  File \"/ihome/crc/install/python/ondemand-jupyter-python3.11-2023.09/lib/python3.11/site-packages/IPython/core/interactiveshell.py\", line 3284, in run_cell_async\n",
      "    has_raised = await self.run_ast_nodes(code_ast.body, cell_name,\n",
      "  File \"/ihome/crc/install/python/ondemand-jupyter-python3.11-2023.09/lib/python3.11/site-packages/IPython/core/interactiveshell.py\", line 3466, in run_ast_nodes\n",
      "    if await self.run_code(code, result, async_=asy):\n",
      "  File \"/ihome/crc/install/python/ondemand-jupyter-python3.11-2023.09/lib/python3.11/site-packages/IPython/core/interactiveshell.py\", line 3526, in run_code\n",
      "    exec(code_obj, self.user_global_ns, self.user_ns)\n",
      "  File \"/scratch/slurm-5150156/ipykernel_198012/3267684233.py\", line 1, in <module>\n",
      "    import pandas as pd\n",
      "  File \"/ihome/xli/sek188/.local/lib/python3.11/site-packages/pandas/__init__.py\", line 49, in <module>\n",
      "    from pandas.core.api import (\n",
      "  File \"/ihome/xli/sek188/.local/lib/python3.11/site-packages/pandas/core/api.py\", line 28, in <module>\n",
      "    from pandas.core.arrays import Categorical\n",
      "  File \"/ihome/xli/sek188/.local/lib/python3.11/site-packages/pandas/core/arrays/__init__.py\", line 1, in <module>\n",
      "    from pandas.core.arrays.arrow import ArrowExtensionArray\n",
      "  File \"/ihome/xli/sek188/.local/lib/python3.11/site-packages/pandas/core/arrays/arrow/__init__.py\", line 5, in <module>\n",
      "    from pandas.core.arrays.arrow.array import ArrowExtensionArray\n",
      "  File \"/ihome/xli/sek188/.local/lib/python3.11/site-packages/pandas/core/arrays/arrow/array.py\", line 50, in <module>\n",
      "    from pandas.core import (\n",
      "  File \"/ihome/xli/sek188/.local/lib/python3.11/site-packages/pandas/core/ops/__init__.py\", line 8, in <module>\n",
      "    from pandas.core.ops.array_ops import (\n",
      "  File \"/ihome/xli/sek188/.local/lib/python3.11/site-packages/pandas/core/ops/array_ops.py\", line 56, in <module>\n",
      "    from pandas.core.computation import expressions\n",
      "  File \"/ihome/xli/sek188/.local/lib/python3.11/site-packages/pandas/core/computation/expressions.py\", line 21, in <module>\n",
      "    from pandas.core.computation.check import NUMEXPR_INSTALLED\n",
      "  File \"/ihome/xli/sek188/.local/lib/python3.11/site-packages/pandas/core/computation/check.py\", line 5, in <module>\n",
      "    ne = import_optional_dependency(\"numexpr\", errors=\"warn\")\n",
      "  File \"/ihome/xli/sek188/.local/lib/python3.11/site-packages/pandas/compat/_optional.py\", line 135, in import_optional_dependency\n",
      "    module = importlib.import_module(name)\n",
      "  File \"/ihome/crc/install/python/ondemand-jupyter-python3.11-2023.09/lib/python3.11/importlib/__init__.py\", line 126, in import_module\n",
      "    return _bootstrap._gcd_import(name[level:], package, level)\n",
      "  File \"/ihome/crc/install/python/ondemand-jupyter-python3.11-2023.09/lib/python3.11/site-packages/numexpr/__init__.py\", line 24, in <module>\n",
      "    from numexpr.interpreter import MAX_THREADS, use_vml, __BLOCK_SIZE1__\n"
     ]
    },
    {
     "ename": "AttributeError",
     "evalue": "_ARRAY_API not found",
     "output_type": "error",
     "traceback": [
      "\u001b[0;31m---------------------------------------------------------------------------\u001b[0m",
      "\u001b[0;31mAttributeError\u001b[0m                            Traceback (most recent call last)",
      "\u001b[0;31mAttributeError\u001b[0m: _ARRAY_API not found"
     ]
    },
    {
     "name": "stderr",
     "output_type": "stream",
     "text": [
      "\n",
      "A module that was compiled using NumPy 1.x cannot be run in\n",
      "NumPy 2.2.2 as it may crash. To support both 1.x and 2.x\n",
      "versions of NumPy, modules must be compiled with NumPy 2.0.\n",
      "Some module may need to rebuild instead e.g. with 'pybind11>=2.12'.\n",
      "\n",
      "If you are a user of the module, the easiest solution will be to\n",
      "downgrade to 'numpy<2' or try to upgrade the affected module.\n",
      "We expect that some modules will need time to support NumPy 2.\n",
      "\n",
      "Traceback (most recent call last):  File \"<frozen runpy>\", line 198, in _run_module_as_main\n",
      "  File \"<frozen runpy>\", line 88, in _run_code\n",
      "  File \"/ihome/crc/install/python/ondemand-jupyter-python3.11-2023.09/lib/python3.11/site-packages/ipykernel_launcher.py\", line 17, in <module>\n",
      "    app.launch_new_instance()\n",
      "  File \"/ihome/crc/install/python/ondemand-jupyter-python3.11-2023.09/lib/python3.11/site-packages/traitlets/config/application.py\", line 992, in launch_instance\n",
      "    app.start()\n",
      "  File \"/ihome/crc/install/python/ondemand-jupyter-python3.11-2023.09/lib/python3.11/site-packages/ipykernel/kernelapp.py\", line 736, in start\n",
      "    self.io_loop.start()\n",
      "  File \"/ihome/crc/install/python/ondemand-jupyter-python3.11-2023.09/lib/python3.11/site-packages/tornado/platform/asyncio.py\", line 195, in start\n",
      "    self.asyncio_loop.run_forever()\n",
      "  File \"/ihome/crc/install/python/ondemand-jupyter-python3.11-2023.09/lib/python3.11/asyncio/base_events.py\", line 607, in run_forever\n",
      "    self._run_once()\n",
      "  File \"/ihome/crc/install/python/ondemand-jupyter-python3.11-2023.09/lib/python3.11/asyncio/base_events.py\", line 1922, in _run_once\n",
      "    handle._run()\n",
      "  File \"/ihome/crc/install/python/ondemand-jupyter-python3.11-2023.09/lib/python3.11/asyncio/events.py\", line 80, in _run\n",
      "    self._context.run(self._callback, *self._args)\n",
      "  File \"/ihome/crc/install/python/ondemand-jupyter-python3.11-2023.09/lib/python3.11/site-packages/ipykernel/kernelbase.py\", line 516, in dispatch_queue\n",
      "    await self.process_one()\n",
      "  File \"/ihome/crc/install/python/ondemand-jupyter-python3.11-2023.09/lib/python3.11/site-packages/ipykernel/kernelbase.py\", line 505, in process_one\n",
      "    await dispatch(*args)\n",
      "  File \"/ihome/crc/install/python/ondemand-jupyter-python3.11-2023.09/lib/python3.11/site-packages/ipykernel/kernelbase.py\", line 412, in dispatch_shell\n",
      "    await result\n",
      "  File \"/ihome/crc/install/python/ondemand-jupyter-python3.11-2023.09/lib/python3.11/site-packages/ipykernel/kernelbase.py\", line 740, in execute_request\n",
      "    reply_content = await reply_content\n",
      "  File \"/ihome/crc/install/python/ondemand-jupyter-python3.11-2023.09/lib/python3.11/site-packages/ipykernel/ipkernel.py\", line 422, in do_execute\n",
      "    res = shell.run_cell(\n",
      "  File \"/ihome/crc/install/python/ondemand-jupyter-python3.11-2023.09/lib/python3.11/site-packages/ipykernel/zmqshell.py\", line 546, in run_cell\n",
      "    return super().run_cell(*args, **kwargs)\n",
      "  File \"/ihome/crc/install/python/ondemand-jupyter-python3.11-2023.09/lib/python3.11/site-packages/IPython/core/interactiveshell.py\", line 3024, in run_cell\n",
      "    result = self._run_cell(\n",
      "  File \"/ihome/crc/install/python/ondemand-jupyter-python3.11-2023.09/lib/python3.11/site-packages/IPython/core/interactiveshell.py\", line 3079, in _run_cell\n",
      "    result = runner(coro)\n",
      "  File \"/ihome/crc/install/python/ondemand-jupyter-python3.11-2023.09/lib/python3.11/site-packages/IPython/core/async_helpers.py\", line 129, in _pseudo_sync_runner\n",
      "    coro.send(None)\n",
      "  File \"/ihome/crc/install/python/ondemand-jupyter-python3.11-2023.09/lib/python3.11/site-packages/IPython/core/interactiveshell.py\", line 3284, in run_cell_async\n",
      "    has_raised = await self.run_ast_nodes(code_ast.body, cell_name,\n",
      "  File \"/ihome/crc/install/python/ondemand-jupyter-python3.11-2023.09/lib/python3.11/site-packages/IPython/core/interactiveshell.py\", line 3466, in run_ast_nodes\n",
      "    if await self.run_code(code, result, async_=asy):\n",
      "  File \"/ihome/crc/install/python/ondemand-jupyter-python3.11-2023.09/lib/python3.11/site-packages/IPython/core/interactiveshell.py\", line 3526, in run_code\n",
      "    exec(code_obj, self.user_global_ns, self.user_ns)\n",
      "  File \"/scratch/slurm-5150156/ipykernel_198012/3267684233.py\", line 1, in <module>\n",
      "    import pandas as pd\n",
      "  File \"/ihome/xli/sek188/.local/lib/python3.11/site-packages/pandas/__init__.py\", line 49, in <module>\n",
      "    from pandas.core.api import (\n",
      "  File \"/ihome/xli/sek188/.local/lib/python3.11/site-packages/pandas/core/api.py\", line 28, in <module>\n",
      "    from pandas.core.arrays import Categorical\n",
      "  File \"/ihome/xli/sek188/.local/lib/python3.11/site-packages/pandas/core/arrays/__init__.py\", line 1, in <module>\n",
      "    from pandas.core.arrays.arrow import ArrowExtensionArray\n",
      "  File \"/ihome/xli/sek188/.local/lib/python3.11/site-packages/pandas/core/arrays/arrow/__init__.py\", line 5, in <module>\n",
      "    from pandas.core.arrays.arrow.array import ArrowExtensionArray\n",
      "  File \"/ihome/xli/sek188/.local/lib/python3.11/site-packages/pandas/core/arrays/arrow/array.py\", line 64, in <module>\n",
      "    from pandas.core.arrays.masked import BaseMaskedArray\n",
      "  File \"/ihome/xli/sek188/.local/lib/python3.11/site-packages/pandas/core/arrays/masked.py\", line 60, in <module>\n",
      "    from pandas.core import (\n",
      "  File \"/ihome/xli/sek188/.local/lib/python3.11/site-packages/pandas/core/nanops.py\", line 52, in <module>\n",
      "    bn = import_optional_dependency(\"bottleneck\", errors=\"warn\")\n",
      "  File \"/ihome/xli/sek188/.local/lib/python3.11/site-packages/pandas/compat/_optional.py\", line 135, in import_optional_dependency\n",
      "    module = importlib.import_module(name)\n",
      "  File \"/ihome/crc/install/python/ondemand-jupyter-python3.11-2023.09/lib/python3.11/importlib/__init__.py\", line 126, in import_module\n",
      "    return _bootstrap._gcd_import(name[level:], package, level)\n",
      "  File \"/ihome/crc/install/python/ondemand-jupyter-python3.11-2023.09/lib/python3.11/site-packages/bottleneck/__init__.py\", line 7, in <module>\n",
      "    from .move import (move_argmax, move_argmin, move_max, move_mean, move_median,\n"
     ]
    },
    {
     "ename": "AttributeError",
     "evalue": "_ARRAY_API not found",
     "output_type": "error",
     "traceback": [
      "\u001b[0;31m---------------------------------------------------------------------------\u001b[0m",
      "\u001b[0;31mAttributeError\u001b[0m                            Traceback (most recent call last)",
      "\u001b[0;31mAttributeError\u001b[0m: _ARRAY_API not found"
     ]
    },
    {
     "ename": "ModuleNotFoundError",
     "evalue": "No module named 'newspaper'",
     "output_type": "error",
     "traceback": [
      "\u001b[0;31m---------------------------------------------------------------------------\u001b[0m",
      "\u001b[0;31mModuleNotFoundError\u001b[0m                       Traceback (most recent call last)",
      "Cell \u001b[0;32mIn[4], line 13\u001b[0m\n\u001b[1;32m     10\u001b[0m \u001b[38;5;28;01mimport\u001b[39;00m \u001b[38;5;21;01mtldextract\u001b[39;00m \u001b[38;5;28;01mas\u001b[39;00m \u001b[38;5;21;01mtld\u001b[39;00m\n\u001b[1;32m     11\u001b[0m \u001b[38;5;28;01mimport\u001b[39;00m \u001b[38;5;21;01murllib\u001b[39;00m\u001b[38;5;21;01m.\u001b[39;00m\u001b[38;5;21;01mparse\u001b[39;00m \u001b[38;5;28;01mas\u001b[39;00m \u001b[38;5;21;01mparse\u001b[39;00m\n\u001b[0;32m---> 13\u001b[0m \u001b[38;5;28;01mfrom\u001b[39;00m \u001b[38;5;21;01mnewspaper\u001b[39;00m \u001b[38;5;28;01mimport\u001b[39;00m Article\n\u001b[1;32m     14\u001b[0m \u001b[38;5;28;01mimport\u001b[39;00m \u001b[38;5;21;01mzipfile\u001b[39;00m\n\u001b[1;32m     15\u001b[0m \u001b[38;5;28;01mimport\u001b[39;00m \u001b[38;5;21;01mmultiprocessing\u001b[39;00m\n",
      "\u001b[0;31mModuleNotFoundError\u001b[0m: No module named 'newspaper'"
     ]
    }
   ],
   "source": [
    "import pandas as pd\n",
    "from datetime import datetime\n",
    "\n",
    "import pandas as pd\n",
    "import multiprocessing\n",
    "import requests\n",
    "import os\n",
    "import re\n",
    "\n",
    "import tldextract as tld\n",
    "import urllib.parse as parse\n",
    "\n",
    "from newspaper import Article\n",
    "import zipfile\n",
    "import multiprocessing"
   ]
  },
  {
   "cell_type": "code",
   "execution_count": null,
   "id": "3543e4b9",
   "metadata": {
    "id": "3543e4b9",
    "tags": []
   },
   "outputs": [],
   "source": [
    "# parse files to pandas DF\n",
    "links_df = pd.read_csv(\"masterfilelist.txt\", sep=\" \", header=None)"
   ]
  },
  {
   "cell_type": "code",
   "execution_count": null,
   "id": "b15a0915",
   "metadata": {
    "colab": {
     "base_uri": "https://localhost:8080/",
     "height": 206
    },
    "id": "b15a0915",
    "outputId": "2c719c46-9f27-4cfe-eb9a-037fbe4332d8",
    "tags": []
   },
   "outputs": [],
   "source": [
    "links_df.columns = [\"Col1\", \"Col2\", \"url\"]\n",
    "\n",
    "links_df.head()"
   ]
  },
  {
   "cell_type": "code",
   "execution_count": null,
   "id": "351ed9fd",
   "metadata": {
    "colab": {
     "base_uri": "https://localhost:8080/"
    },
    "id": "351ed9fd",
    "outputId": "a611b6ae-be36-44b7-aa43-f83baac7ee3b"
   },
   "outputs": [
    {
     "name": "stdout",
     "output_type": "stream",
     "text": [
      "Pandas(Index=796521, Col1='3284', Col2='7a81f753d125cbc10acea058720c4dc8', url='http://data.gdeltproject.org/gdeltv2/20221111031500.export.CSV.zip')\n"
     ]
    }
   ],
   "source": [
    "for row in links_df.itertuples():\n",
    "    if '20221111031500.export.CSV.zip' in str(row.url):\n",
    "        print(row)\n",
    "        break"
   ]
  },
  {
   "cell_type": "code",
   "execution_count": null,
   "id": "a7109366",
   "metadata": {
    "colab": {
     "base_uri": "https://localhost:8080/",
     "height": 35
    },
    "id": "a7109366",
    "outputId": "18f91667-f970-4094-d27e-33c2d2e02962"
   },
   "outputs": [
    {
     "data": {
      "application/vnd.google.colaboratory.intrinsic+json": {
       "type": "string"
      },
      "text/plain": [
       "'http://data.gdeltproject.org/gdeltv2/20250324234500.export.CSV.zip'"
      ]
     },
     "execution_count": 13,
     "metadata": {},
     "output_type": "execute_result"
    }
   ],
   "source": [
    "links_df.iloc[-3, :].url"
   ]
  },
  {
   "cell_type": "code",
   "execution_count": null,
   "id": "a2164e98",
   "metadata": {
    "id": "a2164e98"
   },
   "outputs": [],
   "source": [
    "def extract_date_from_url(url):\n",
    "    try:\n",
    "        date_segment = url.split(\"/\")[-1]\n",
    "        date_segment = date_segment.split(\".\")[0]\n",
    "        #print(date_segment[:12])\n",
    "\n",
    "        return datetime.strptime(date_segment[0:12], \"%Y%m%d%H%M\")\n",
    "\n",
    "    except Exception as e:\n",
    "        return None"
   ]
  },
  {
   "cell_type": "code",
   "execution_count": null,
   "id": "15320768",
   "metadata": {
    "id": "15320768"
   },
   "outputs": [],
   "source": [
    "def extract_type_from_url(url):\n",
    "    try:\n",
    "        if \"export\" in url:\n",
    "            return \"export\"\n",
    "        elif \"mentions\" in url:\n",
    "            return \"mentions\"\n",
    "        elif \"gkg\" in url:\n",
    "            return \"gkg\"\n",
    "    except Exception as e:\n",
    "        return \"\""
   ]
  },
  {
   "cell_type": "code",
   "execution_count": null,
   "id": "e4eacc92",
   "metadata": {
    "id": "e4eacc92"
   },
   "outputs": [],
   "source": [
    "# print(extract_date_from_url(\"http://data.gdeltproject.org/gdeltv2/20240419024500.gkg.csv.zip\"))"
   ]
  },
  {
   "cell_type": "code",
   "execution_count": null,
   "id": "a12fa82d",
   "metadata": {
    "id": "a12fa82d"
   },
   "outputs": [],
   "source": [
    "links_df[\"datetime\"] = links_df[\"url\"].apply(extract_date_from_url)\n",
    "links_df[\"ftype\"] = links_df[\"url\"].apply(extract_type_from_url)"
   ]
  },
  {
   "cell_type": "code",
   "execution_count": null,
   "id": "3bfc87c6",
   "metadata": {
    "id": "3bfc87c6"
   },
   "outputs": [],
   "source": [
    "# download file"
   ]
  },
  {
   "cell_type": "code",
   "execution_count": null,
   "id": "77e67a10",
   "metadata": {
    "id": "77e67a10"
   },
   "outputs": [],
   "source": [
    "import os\n",
    "from pathlib import Path\n",
    "from urllib.request import urlretrieve\n",
    "import requests"
   ]
  },
  {
   "cell_type": "code",
   "execution_count": null,
   "id": "5f95880a",
   "metadata": {
    "id": "5f95880a"
   },
   "outputs": [],
   "source": [
    "def download_file(url, dateinfo):\n",
    "    fname = url.split(\"/\")[-1]\n",
    "    datadirs = f\"datadir_tambahan/{dateinfo.strftime('%Y/%m/%d')}\"\n",
    "#     print(datadirs)\n",
    "\n",
    "    fpath = os.path.join(datadirs, fname)\n",
    "\n",
    "    if not os.path.isdir(os.path.join(datadirs)):\n",
    "        os.makedirs(os.path.join(datadirs))\n",
    "\n",
    "\n",
    "    response = requests.get(url, stream=True)\n",
    "    with open(fpath, \"wb\") as fout:\n",
    "        for chunk in response.iter_content(chunk_size=10 * 1024):\n",
    "            fout.write(chunk)\n",
    "\n"
   ]
  },
  {
   "cell_type": "code",
   "execution_count": null,
   "id": "b4402bd2",
   "metadata": {
    "id": "b4402bd2"
   },
   "outputs": [],
   "source": [
    "# download_file(\"http://data.gdeltproject.org/gdeltv2/20240419030000.export.CSV.zip\", datetime(2024, 1, 10))"
   ]
  },
  {
   "cell_type": "code",
   "execution_count": null,
   "id": "37bb6f60",
   "metadata": {
    "id": "37bb6f60"
   },
   "outputs": [],
   "source": [
    "for row in links_df[\n",
    "    (links_df[\"ftype\"] == \"export\") &\n",
    "    (links_df[\"datetime\"] >= \"2025-03-01\") &\n",
    "    (links_df[\"datetime\"] < \"2025-04-01\")].itertuples():\n",
    "    download_file(row.url, row.datetime)\n",
    "#     break"
   ]
  },
  {
   "cell_type": "code",
   "execution_count": null,
   "id": "bf66e989",
   "metadata": {
    "id": "bf66e989"
   },
   "outputs": [],
   "source": [
    "def urlStrip(url):\n",
    "\n",
    "    try:\n",
    "        temp = requests.head(url, allow_redirects=True, timeout=2).url\n",
    "    except Exception as e:\n",
    "        return None, None\n",
    "\n",
    "    if temp[-1] != '/':\n",
    "        temp += '/'\n",
    "    ext = tld.extract(temp)\n",
    "    parsed = parse.urlparse(temp)\n",
    "    final_url = 'https://'\n",
    "    if ext.subdomain == '':\n",
    "        final_url += 'www.'\n",
    "    final_url += (parsed.netloc + parsed.path)\n",
    "\n",
    "    return (url, final_url.replace('/amp/', '/').replace('.amp', '').replace('/amphtml/', '/').strip('/'))"
   ]
  },
  {
   "cell_type": "code",
   "execution_count": null,
   "id": "6d5724b9",
   "metadata": {
    "id": "6d5724b9"
   },
   "outputs": [],
   "source": [
    "def downloadArticle(url):\n",
    "\n",
    "    article = Article(url, request_timeout=2, fetch_images=False)\n",
    "\n",
    "    try:\n",
    "        article.download()\n",
    "        article.parse()\n",
    "\n",
    "        content = article\n",
    "        title = content.title\n",
    "        images = content.images\n",
    "        authors = content.authors\n",
    "        text = content.text\n",
    "        movies = content.movies\n",
    "        date = content.publish_date\n",
    "        tags = content.tags\n",
    "        body = {\n",
    "            'title': title,\n",
    "#             'images': images,\n",
    "            'authors': authors,\n",
    "            'text': text,\n",
    "#             'movies': movies,\n",
    "            'date': date,\n",
    "            'tags': tags,\n",
    "            'article_url': url\n",
    "        }\n",
    "\n",
    "\n",
    "        return body\n",
    "    except Exception:\n",
    "        return None\n",
    "\n",
    "\n"
   ]
  },
  {
   "cell_type": "code",
   "execution_count": null,
   "id": "2YfAE-mpxgzJ",
   "metadata": {
    "id": "2YfAE-mpxgzJ"
   },
   "outputs": [],
   "source": [
    "def job(url):\n",
    "    url, strip_url = urlStrip(url)\n",
    "    if url is not None:\n",
    "        body = downloadArticle(strip_url)\n",
    "        return [url, strip_url, body]\n",
    "    else:\n",
    "        return ['URL N/A', '', None]"
   ]
  },
  {
   "cell_type": "code",
   "execution_count": null,
   "id": "Vz-cK-r5xiXT",
   "metadata": {
    "id": "Vz-cK-r5xiXT"
   },
   "outputs": [],
   "source": [
    "def process_file(file_path):\n",
    "    df = pd.read_csv(file_path, header=None, sep=\"\\t\")\n",
    "    df.rename(columns={60: \"url\"}, inplace=True)\n",
    "    # filtered_df = df[df['url'].str.contains(r'trump', flags=re.IGNORECASE)]\n",
    "    filtered_df = df\n",
    "    filtered_df.drop_duplicates(subset=\"url\", keep=\"first\", inplace=True)\n",
    "    urls = filtered_df['url'].tolist()\n",
    "\n",
    "    # multiprocessing\n",
    "    with multiprocessing.Pool(8) as pool:\n",
    "        out = pool.map(job, urls)\n",
    "\n",
    "    # Prepare the results for DataFrame insertion\n",
    "    data = []\n",
    "    for item in out:\n",
    "        if item[2]:  # Check if the article was successfully crawled\n",
    "            url, strip_url, body = item\n",
    "            data.append([url, strip_url, body['title'], body['text'], body['date'], body['article_url'], body['authors'], body['tags']])\n",
    "\n",
    "    # Convert the data into a DataFrame\n",
    "    columns = ['original_url', 'strip_url', 'title', 'text', 'date', 'article_url', 'authors', 'tags']\n",
    "    result_df = pd.DataFrame(data, columns=columns)\n",
    "\n",
    "    # Merge the crawled data into the original DataFrame\n",
    "    filtered_df = pd.merge(filtered_df, result_df, left_on='url', right_on='original_url', how='left')\n",
    "\n",
    "    # Drop unnecessary columns\n",
    "    filtered_df.drop(['original_url'], axis=1, inplace=True)\n",
    "\n",
    "    # Save the result\n",
    "    output_file = file_path.replace(\".export.CSV\", \"_crawled_filtered.export.CSV\")\n",
    "    filtered_df.to_csv(output_file, index=False)"
   ]
  },
  {
   "cell_type": "code",
   "execution_count": null,
   "id": "8A4ecPiUybUG",
   "metadata": {
    "id": "8A4ecPiUybUG"
   },
   "outputs": [],
   "source": [
    "homeDir = '/content/datadir_tambahan/2025/01'\n",
    "for subfolder in os.listdir(homeDir):\n",
    "  for filename in os.listdir(os.path.join(homeDir, subfolder)):\n",
    "    if filename.endswith('.zip'):\n",
    "      with zipfile.ZipFile(os.path.join(homeDir, subfolder, filename), 'r') as zip_ref:\n",
    "        zip_ref.extractall('/content/parsed')\n",
    "directory = '/content/parsed'"
   ]
  },
  {
   "cell_type": "code",
   "execution_count": null,
   "id": "vc1F3PBCxlzn",
   "metadata": {
    "colab": {
     "base_uri": "https://localhost:8080/",
     "height": 1000
    },
    "id": "vc1F3PBCxlzn",
    "outputId": "cc00ec8a-39a3-4043-b4ed-b63e33f7bf7b"
   },
   "outputs": [
    {
     "name": "stdout",
     "output_type": "stream",
     "text": [
      "20250103083000.export.CSV\n",
      "20250111004500.export.CSV\n",
      "20250102134500.export.CSV\n",
      "20250105193000.export.CSV\n",
      "20250107033000.export.CSV\n",
      "20250109043000.export.CSV\n",
      "20250107100000.export.CSV\n",
      "20250106141500.export.CSV\n",
      "20250107043000.export.CSV\n",
      "20250104221500.export.CSV\n",
      "20250106180000.export.CSV\n",
      "20250106020000.export.CSV\n",
      "20250108144500.export.CSV\n",
      "20250102034500.export.CSV\n",
      "20250108210000.export.CSV\n",
      "20250108200000.export.CSV\n",
      "20250107123000.export.CSV\n",
      "20250108073000.export.CSV\n",
      "20250105214500.export.CSV\n",
      "20250107001500.export.CSV\n",
      "20250104224500.export.CSV\n",
      "20250103044500.export.CSV\n",
      "20250102151500.export.CSV\n",
      "20250111031500.export.CSV\n",
      "20250101113000.export.CSV\n",
      "20250108223000.export.CSV\n",
      "20250103051500.export.CSV\n",
      "20250109074500.export.CSV\n",
      "20250101161500.export.CSV\n"
     ]
    },
    {
     "name": "stderr",
     "output_type": "stream",
     "text": [
      "/usr/local/lib/python3.11/dist-packages/dateutil/parser/_parser.py:1207: UnknownTimezoneWarning: tzname EST identified but not understood.  Pass `tzinfos` argument in order to correctly return a timezone-aware datetime.  In a future version, this will raise an exception.\n",
      "  warnings.warn(\"tzname {tzname} identified but not understood.  \"\n"
     ]
    },
    {
     "name": "stdout",
     "output_type": "stream",
     "text": [
      "20250108030000.export.CSV\n",
      "20250103094500.export.CSV\n",
      "20250111033000.export.CSV\n",
      "20250103200000.export.CSV\n",
      "20250111013000.export.CSV\n",
      "20250106131500.export.CSV\n",
      "20250104020000.export.CSV\n",
      "20250107094500.export.CSV\n",
      "20250103111500.export.CSV\n",
      "20250105174500.export.CSV\n",
      "20250106104500.export.CSV\n",
      "20250102213000.export.CSV\n",
      "20250108131500.export.CSV\n",
      "20250107070000.export.CSV\n",
      "20250103180000.export.CSV\n",
      "20250110073000.export.CSV\n"
     ]
    },
    {
     "name": "stderr",
     "output_type": "stream",
     "text": [
      "/usr/local/lib/python3.11/dist-packages/dateutil/parser/_parser.py:1207: UnknownTimezoneWarning: tzname EST identified but not understood.  Pass `tzinfos` argument in order to correctly return a timezone-aware datetime.  In a future version, this will raise an exception.\n",
      "  warnings.warn(\"tzname {tzname} identified but not understood.  \"\n"
     ]
    },
    {
     "name": "stdout",
     "output_type": "stream",
     "text": [
      "20250106213000.export.CSV\n",
      "20250102030000.export.CSV\n",
      "20250108110000.export.CSV\n"
     ]
    },
    {
     "name": "stderr",
     "output_type": "stream",
     "text": [
      "/usr/local/lib/python3.11/dist-packages/dateutil/parser/_parser.py:1207: UnknownTimezoneWarning: tzname EST identified but not understood.  Pass `tzinfos` argument in order to correctly return a timezone-aware datetime.  In a future version, this will raise an exception.\n",
      "  warnings.warn(\"tzname {tzname} identified but not understood.  \"\n"
     ]
    },
    {
     "name": "stdout",
     "output_type": "stream",
     "text": [
      "20250106083000.export.CSV\n",
      "20250102070000.export.CSV\n",
      "20250104140000.export.CSV\n",
      "20250107013000.export.CSV\n",
      "20250110054500.export.CSV\n",
      "20250108190000.export.CSV\n",
      "20250104164500.export.CSV\n",
      "20250101014500.export.CSV\n",
      "20250110091500.export.CSV\n"
     ]
    },
    {
     "name": "stderr",
     "output_type": "stream",
     "text": [
      "Building prefix dict from /usr/local/lib/python3.11/dist-packages/jieba/dict.txt ...\n",
      "DEBUG:jieba:Building prefix dict from /usr/local/lib/python3.11/dist-packages/jieba/dict.txt ...\n",
      "Dumping model to file cache /tmp/jieba.cache\n",
      "DEBUG:jieba:Dumping model to file cache /tmp/jieba.cache\n",
      "Loading model cost 4.753740310668945 seconds.\n",
      "DEBUG:jieba:Loading model cost 4.753740310668945 seconds.\n",
      "Prefix dict has been built succesfully.\n",
      "DEBUG:jieba:Prefix dict has been built succesfully.\n"
     ]
    },
    {
     "name": "stdout",
     "output_type": "stream",
     "text": [
      "20250103073000.export.CSV\n",
      "20250109094500.export.CSV\n",
      "20250104133000.export.CSV\n",
      "20250108040000.export.CSV\n",
      "20250103143000.export.CSV\n",
      "20250108023000.export.CSV\n",
      "20250104213000.export.CSV\n",
      "20250108204500.export.CSV\n",
      "20250101041500.export.CSV\n",
      "20250104100000.export.CSV\n",
      "20250108084500.export.CSV\n",
      "20250103113000.export.CSV\n",
      "20250111020000.export.CSV\n",
      "20250109210000.export.CSV\n"
     ]
    },
    {
     "name": "stderr",
     "output_type": "stream",
     "text": [
      "/usr/local/lib/python3.11/dist-packages/dateutil/parser/_parser.py:1207: UnknownTimezoneWarning: tzname EST identified but not understood.  Pass `tzinfos` argument in order to correctly return a timezone-aware datetime.  In a future version, this will raise an exception.\n",
      "  warnings.warn(\"tzname {tzname} identified but not understood.  \"\n",
      "Building prefix dict from /usr/local/lib/python3.11/dist-packages/jieba/dict.txt ...\n",
      "DEBUG:jieba:Building prefix dict from /usr/local/lib/python3.11/dist-packages/jieba/dict.txt ...\n",
      "Loading model from cache /tmp/jieba.cache\n",
      "DEBUG:jieba:Loading model from cache /tmp/jieba.cache\n",
      "Loading model cost 2.5740907192230225 seconds.\n",
      "DEBUG:jieba:Loading model cost 2.5740907192230225 seconds.\n",
      "Prefix dict has been built succesfully.\n",
      "DEBUG:jieba:Prefix dict has been built succesfully.\n"
     ]
    },
    {
     "name": "stdout",
     "output_type": "stream",
     "text": [
      "20250110050000.export.CSV\n",
      "20250102211500.export.CSV\n",
      "20250101184500.export.CSV\n",
      "20250110170000.export.CSV\n",
      "20250110160000.export.CSV\n",
      "20250104113000.export.CSV\n"
     ]
    },
    {
     "name": "stderr",
     "output_type": "stream",
     "text": [
      "/usr/local/lib/python3.11/dist-packages/dateutil/parser/_parser.py:1207: UnknownTimezoneWarning: tzname IST identified but not understood.  Pass `tzinfos` argument in order to correctly return a timezone-aware datetime.  In a future version, this will raise an exception.\n",
      "  warnings.warn(\"tzname {tzname} identified but not understood.  \"\n"
     ]
    },
    {
     "name": "stdout",
     "output_type": "stream",
     "text": [
      "20250107143000.export.CSV\n",
      "20250107101500.export.CSV\n",
      "20250106004500.export.CSV\n",
      "20250104170000.export.CSV\n",
      "20250109084500.export.CSV\n",
      "20250106193000.export.CSV\n",
      "20250103190000.export.CSV\n",
      "20250103134500.export.CSV\n",
      "20250110030000.export.CSV\n",
      "20250107201500.export.CSV\n",
      "20250102180000.export.CSV\n",
      "20250107063000.export.CSV\n",
      "20250110213000.export.CSV\n",
      "20250101140000.export.CSV\n",
      "20250109164500.export.CSV\n",
      "20250106164500.export.CSV\n",
      "20250110084500.export.CSV\n",
      "20250101121500.export.CSV\n",
      "20250109171500.export.CSV\n",
      "20250106054500.export.CSV\n",
      "20250108180000.export.CSV\n",
      "20250101211500.export.CSV\n"
     ]
    },
    {
     "ename": "KeyboardInterrupt",
     "evalue": "",
     "output_type": "error",
     "traceback": [
      "\u001b[0;31m---------------------------------------------------------------------------\u001b[0m",
      "\u001b[0;31mKeyboardInterrupt\u001b[0m                         Traceback (most recent call last)",
      "\u001b[0;32m<ipython-input-30-c835b43473fb>\u001b[0m in \u001b[0;36m<cell line: 0>\u001b[0;34m()\u001b[0m\n\u001b[1;32m      6\u001b[0m             \u001b[0mprint\u001b[0m\u001b[0;34m(\u001b[0m\u001b[0mfilename\u001b[0m\u001b[0;34m)\u001b[0m\u001b[0;34m\u001b[0m\u001b[0;34m\u001b[0m\u001b[0m\n\u001b[1;32m      7\u001b[0m             \u001b[0mfile_path\u001b[0m \u001b[0;34m=\u001b[0m \u001b[0mos\u001b[0m\u001b[0;34m.\u001b[0m\u001b[0mpath\u001b[0m\u001b[0;34m.\u001b[0m\u001b[0mjoin\u001b[0m\u001b[0;34m(\u001b[0m\u001b[0mdirectory\u001b[0m\u001b[0;34m,\u001b[0m \u001b[0mfilename\u001b[0m\u001b[0;34m)\u001b[0m\u001b[0;34m\u001b[0m\u001b[0;34m\u001b[0m\u001b[0m\n\u001b[0;32m----> 8\u001b[0;31m             \u001b[0mprocess_file\u001b[0m\u001b[0;34m(\u001b[0m\u001b[0mfile_path\u001b[0m\u001b[0;34m)\u001b[0m\u001b[0;34m\u001b[0m\u001b[0;34m\u001b[0m\u001b[0m\n\u001b[0m\u001b[1;32m      9\u001b[0m             \u001b[0;31m#break\u001b[0m\u001b[0;34m\u001b[0m\u001b[0;34m\u001b[0m\u001b[0m\n",
      "\u001b[0;32m<ipython-input-28-648ab0f47a5a>\u001b[0m in \u001b[0;36mprocess_file\u001b[0;34m(file_path)\u001b[0m\n\u001b[1;32m      9\u001b[0m     \u001b[0;31m# multiprocessing\u001b[0m\u001b[0;34m\u001b[0m\u001b[0;34m\u001b[0m\u001b[0m\n\u001b[1;32m     10\u001b[0m     \u001b[0;32mwith\u001b[0m \u001b[0mmultiprocessing\u001b[0m\u001b[0;34m.\u001b[0m\u001b[0mPool\u001b[0m\u001b[0;34m(\u001b[0m\u001b[0;36m8\u001b[0m\u001b[0;34m)\u001b[0m \u001b[0;32mas\u001b[0m \u001b[0mpool\u001b[0m\u001b[0;34m:\u001b[0m\u001b[0;34m\u001b[0m\u001b[0;34m\u001b[0m\u001b[0m\n\u001b[0;32m---> 11\u001b[0;31m         \u001b[0mout\u001b[0m \u001b[0;34m=\u001b[0m \u001b[0mpool\u001b[0m\u001b[0;34m.\u001b[0m\u001b[0mmap\u001b[0m\u001b[0;34m(\u001b[0m\u001b[0mjob\u001b[0m\u001b[0;34m,\u001b[0m \u001b[0murls\u001b[0m\u001b[0;34m)\u001b[0m\u001b[0;34m\u001b[0m\u001b[0;34m\u001b[0m\u001b[0m\n\u001b[0m\u001b[1;32m     12\u001b[0m \u001b[0;34m\u001b[0m\u001b[0m\n\u001b[1;32m     13\u001b[0m     \u001b[0;31m# Prepare the results for DataFrame insertion\u001b[0m\u001b[0;34m\u001b[0m\u001b[0;34m\u001b[0m\u001b[0m\n",
      "\u001b[0;32m/usr/lib/python3.11/multiprocessing/pool.py\u001b[0m in \u001b[0;36mmap\u001b[0;34m(self, func, iterable, chunksize)\u001b[0m\n\u001b[1;32m    365\u001b[0m         \u001b[0;32min\u001b[0m \u001b[0ma\u001b[0m \u001b[0mlist\u001b[0m \u001b[0mthat\u001b[0m \u001b[0;32mis\u001b[0m \u001b[0mreturned\u001b[0m\u001b[0;34m.\u001b[0m\u001b[0;34m\u001b[0m\u001b[0;34m\u001b[0m\u001b[0m\n\u001b[1;32m    366\u001b[0m         '''\n\u001b[0;32m--> 367\u001b[0;31m         \u001b[0;32mreturn\u001b[0m \u001b[0mself\u001b[0m\u001b[0;34m.\u001b[0m\u001b[0m_map_async\u001b[0m\u001b[0;34m(\u001b[0m\u001b[0mfunc\u001b[0m\u001b[0;34m,\u001b[0m \u001b[0miterable\u001b[0m\u001b[0;34m,\u001b[0m \u001b[0mmapstar\u001b[0m\u001b[0;34m,\u001b[0m \u001b[0mchunksize\u001b[0m\u001b[0;34m)\u001b[0m\u001b[0;34m.\u001b[0m\u001b[0mget\u001b[0m\u001b[0;34m(\u001b[0m\u001b[0;34m)\u001b[0m\u001b[0;34m\u001b[0m\u001b[0;34m\u001b[0m\u001b[0m\n\u001b[0m\u001b[1;32m    368\u001b[0m \u001b[0;34m\u001b[0m\u001b[0m\n\u001b[1;32m    369\u001b[0m     \u001b[0;32mdef\u001b[0m \u001b[0mstarmap\u001b[0m\u001b[0;34m(\u001b[0m\u001b[0mself\u001b[0m\u001b[0;34m,\u001b[0m \u001b[0mfunc\u001b[0m\u001b[0;34m,\u001b[0m \u001b[0miterable\u001b[0m\u001b[0;34m,\u001b[0m \u001b[0mchunksize\u001b[0m\u001b[0;34m=\u001b[0m\u001b[0;32mNone\u001b[0m\u001b[0;34m)\u001b[0m\u001b[0;34m:\u001b[0m\u001b[0;34m\u001b[0m\u001b[0;34m\u001b[0m\u001b[0m\n",
      "\u001b[0;32m/usr/lib/python3.11/multiprocessing/pool.py\u001b[0m in \u001b[0;36mget\u001b[0;34m(self, timeout)\u001b[0m\n\u001b[1;32m    766\u001b[0m \u001b[0;34m\u001b[0m\u001b[0m\n\u001b[1;32m    767\u001b[0m     \u001b[0;32mdef\u001b[0m \u001b[0mget\u001b[0m\u001b[0;34m(\u001b[0m\u001b[0mself\u001b[0m\u001b[0;34m,\u001b[0m \u001b[0mtimeout\u001b[0m\u001b[0;34m=\u001b[0m\u001b[0;32mNone\u001b[0m\u001b[0;34m)\u001b[0m\u001b[0;34m:\u001b[0m\u001b[0;34m\u001b[0m\u001b[0;34m\u001b[0m\u001b[0m\n\u001b[0;32m--> 768\u001b[0;31m         \u001b[0mself\u001b[0m\u001b[0;34m.\u001b[0m\u001b[0mwait\u001b[0m\u001b[0;34m(\u001b[0m\u001b[0mtimeout\u001b[0m\u001b[0;34m)\u001b[0m\u001b[0;34m\u001b[0m\u001b[0;34m\u001b[0m\u001b[0m\n\u001b[0m\u001b[1;32m    769\u001b[0m         \u001b[0;32mif\u001b[0m \u001b[0;32mnot\u001b[0m \u001b[0mself\u001b[0m\u001b[0;34m.\u001b[0m\u001b[0mready\u001b[0m\u001b[0;34m(\u001b[0m\u001b[0;34m)\u001b[0m\u001b[0;34m:\u001b[0m\u001b[0;34m\u001b[0m\u001b[0;34m\u001b[0m\u001b[0m\n\u001b[1;32m    770\u001b[0m             \u001b[0;32mraise\u001b[0m \u001b[0mTimeoutError\u001b[0m\u001b[0;34m\u001b[0m\u001b[0;34m\u001b[0m\u001b[0m\n",
      "\u001b[0;32m/usr/lib/python3.11/multiprocessing/pool.py\u001b[0m in \u001b[0;36mwait\u001b[0;34m(self, timeout)\u001b[0m\n\u001b[1;32m    763\u001b[0m \u001b[0;34m\u001b[0m\u001b[0m\n\u001b[1;32m    764\u001b[0m     \u001b[0;32mdef\u001b[0m \u001b[0mwait\u001b[0m\u001b[0;34m(\u001b[0m\u001b[0mself\u001b[0m\u001b[0;34m,\u001b[0m \u001b[0mtimeout\u001b[0m\u001b[0;34m=\u001b[0m\u001b[0;32mNone\u001b[0m\u001b[0;34m)\u001b[0m\u001b[0;34m:\u001b[0m\u001b[0;34m\u001b[0m\u001b[0;34m\u001b[0m\u001b[0m\n\u001b[0;32m--> 765\u001b[0;31m         \u001b[0mself\u001b[0m\u001b[0;34m.\u001b[0m\u001b[0m_event\u001b[0m\u001b[0;34m.\u001b[0m\u001b[0mwait\u001b[0m\u001b[0;34m(\u001b[0m\u001b[0mtimeout\u001b[0m\u001b[0;34m)\u001b[0m\u001b[0;34m\u001b[0m\u001b[0;34m\u001b[0m\u001b[0m\n\u001b[0m\u001b[1;32m    766\u001b[0m \u001b[0;34m\u001b[0m\u001b[0m\n\u001b[1;32m    767\u001b[0m     \u001b[0;32mdef\u001b[0m \u001b[0mget\u001b[0m\u001b[0;34m(\u001b[0m\u001b[0mself\u001b[0m\u001b[0;34m,\u001b[0m \u001b[0mtimeout\u001b[0m\u001b[0;34m=\u001b[0m\u001b[0;32mNone\u001b[0m\u001b[0;34m)\u001b[0m\u001b[0;34m:\u001b[0m\u001b[0;34m\u001b[0m\u001b[0;34m\u001b[0m\u001b[0m\n",
      "\u001b[0;32m/usr/lib/python3.11/threading.py\u001b[0m in \u001b[0;36mwait\u001b[0;34m(self, timeout)\u001b[0m\n\u001b[1;32m    627\u001b[0m             \u001b[0msignaled\u001b[0m \u001b[0;34m=\u001b[0m \u001b[0mself\u001b[0m\u001b[0;34m.\u001b[0m\u001b[0m_flag\u001b[0m\u001b[0;34m\u001b[0m\u001b[0;34m\u001b[0m\u001b[0m\n\u001b[1;32m    628\u001b[0m             \u001b[0;32mif\u001b[0m \u001b[0;32mnot\u001b[0m \u001b[0msignaled\u001b[0m\u001b[0;34m:\u001b[0m\u001b[0;34m\u001b[0m\u001b[0;34m\u001b[0m\u001b[0m\n\u001b[0;32m--> 629\u001b[0;31m                 \u001b[0msignaled\u001b[0m \u001b[0;34m=\u001b[0m \u001b[0mself\u001b[0m\u001b[0;34m.\u001b[0m\u001b[0m_cond\u001b[0m\u001b[0;34m.\u001b[0m\u001b[0mwait\u001b[0m\u001b[0;34m(\u001b[0m\u001b[0mtimeout\u001b[0m\u001b[0;34m)\u001b[0m\u001b[0;34m\u001b[0m\u001b[0;34m\u001b[0m\u001b[0m\n\u001b[0m\u001b[1;32m    630\u001b[0m             \u001b[0;32mreturn\u001b[0m \u001b[0msignaled\u001b[0m\u001b[0;34m\u001b[0m\u001b[0;34m\u001b[0m\u001b[0m\n\u001b[1;32m    631\u001b[0m \u001b[0;34m\u001b[0m\u001b[0m\n",
      "\u001b[0;32m/usr/lib/python3.11/threading.py\u001b[0m in \u001b[0;36mwait\u001b[0;34m(self, timeout)\u001b[0m\n\u001b[1;32m    325\u001b[0m         \u001b[0;32mtry\u001b[0m\u001b[0;34m:\u001b[0m    \u001b[0;31m# restore state no matter what (e.g., KeyboardInterrupt)\u001b[0m\u001b[0;34m\u001b[0m\u001b[0;34m\u001b[0m\u001b[0m\n\u001b[1;32m    326\u001b[0m             \u001b[0;32mif\u001b[0m \u001b[0mtimeout\u001b[0m \u001b[0;32mis\u001b[0m \u001b[0;32mNone\u001b[0m\u001b[0;34m:\u001b[0m\u001b[0;34m\u001b[0m\u001b[0;34m\u001b[0m\u001b[0m\n\u001b[0;32m--> 327\u001b[0;31m                 \u001b[0mwaiter\u001b[0m\u001b[0;34m.\u001b[0m\u001b[0macquire\u001b[0m\u001b[0;34m(\u001b[0m\u001b[0;34m)\u001b[0m\u001b[0;34m\u001b[0m\u001b[0;34m\u001b[0m\u001b[0m\n\u001b[0m\u001b[1;32m    328\u001b[0m                 \u001b[0mgotit\u001b[0m \u001b[0;34m=\u001b[0m \u001b[0;32mTrue\u001b[0m\u001b[0;34m\u001b[0m\u001b[0;34m\u001b[0m\u001b[0m\n\u001b[1;32m    329\u001b[0m             \u001b[0;32melse\u001b[0m\u001b[0;34m:\u001b[0m\u001b[0;34m\u001b[0m\u001b[0;34m\u001b[0m\u001b[0m\n",
      "\u001b[0;31mKeyboardInterrupt\u001b[0m: "
     ]
    }
   ],
   "source": [
    "\n",
    "# Iterate over files in the directory\n",
    "for filename in os.listdir(directory):\n",
    "    if filename.endswith(\".export.CSV\") and not filename.endswith(\"_crawled_filtered.export.CSV\"):\n",
    "        modified_filename = filename.replace(\".export.CSV\", \"_crawled_filtered.export.CSV\")\n",
    "        if not os.path.exists(os.path.join(directory, modified_filename)):\n",
    "            print(filename)\n",
    "            file_path = os.path.join(directory, filename)\n",
    "            process_file(file_path)\n",
    "            #break"
   ]
  },
  {
   "cell_type": "code",
   "execution_count": null,
   "id": "2JD8koxRzaKT",
   "metadata": {
    "id": "2JD8koxRzaKT"
   },
   "outputs": [],
   "source": [
    "total_rows = pd.DataFrame(columns=['title', 'text', 'date', 'article_url'])\n",
    "for filename in os.listdir('parsed'):\n",
    "    if filename.endswith(\"_crawled_filtered.export.CSV\"):\n",
    "      rdf = pd.read_csv(os.path.join('parsed', filename))\n",
    "      rsdf = rdf[['title', 'text', 'date', 'article_url']]\n",
    "      total_rows = pd.concat([total_rows, rsdf], ignore_index=True)\n",
    "total_rows.to_csv('combined_gdelt')\n"
   ]
  },
  {
   "cell_type": "code",
   "execution_count": null,
   "id": "i_F9EMRYziJF",
   "metadata": {
    "colab": {
     "base_uri": "https://localhost:8080/",
     "height": 310
    },
    "id": "i_F9EMRYziJF",
    "outputId": "bc71703b-bdba-4c62-b357-517dcff33bdb"
   },
   "outputs": [
    {
     "data": {
      "application/vnd.google.colaboratory.intrinsic+json": {
       "summary": "{\n  \"name\": \"fdf\",\n  \"rows\": 1104,\n  \"fields\": [\n    {\n      \"column\": \"Unnamed: 0\",\n      \"properties\": {\n        \"dtype\": \"number\",\n        \"std\": 602,\n        \"min\": 1,\n        \"max\": 2086,\n        \"num_unique_values\": 1104,\n        \"samples\": [\n          591,\n          1975,\n          720\n        ],\n        \"semantic_type\": \"\",\n        \"description\": \"\"\n      }\n    },\n    {\n      \"column\": \"title\",\n      \"properties\": {\n        \"dtype\": \"string\",\n        \"num_unique_values\": 941,\n        \"samples\": [\n          \"\\u2018We need a lot of people coming in\\u2019: Trump reverses anti-immigrant rhetoric and supports H-1B visas\",\n          \"Donald Trump\\u2019s Sentencing Scheduled\",\n          \"Trump blamed foreigners for terror attack. The truth may not matter\"\n        ],\n        \"semantic_type\": \"\",\n        \"description\": \"\"\n      }\n    },\n    {\n      \"column\": \"text\",\n      \"properties\": {\n        \"dtype\": \"string\",\n        \"num_unique_values\": 1004,\n        \"samples\": [\n          \"US National Security Advisor Jake Sullivan is expected to visit India next week, barely days before President Joe Biden vacates White House for Donald Trump. Read here to know why and for what is Sullivan travelling to India read more\\n\\nBefore US President Joe Biden ends his four-year term and hands over the power to Donald Trump on January 20, National Security Advisor (NSA) Jake Sullivan is travelling to India for what will be a last formal interaction with the outgoing administration.\\n\\nSullivan will be visiting India on January 6-7, a report by Hindustan Times cited people familiar with the matter saying on condition of anonymity. However, there has been no formal announcement from either of the sides.\\n\\nAdvertisement\\n\\nWhy is US NSA Jake Sullivan visiting India?\\n\\nSullivan will be in India for a review of the US-India Initiative on Critical and Emerging Technology (iCET) as well as for bilateral talks.\\n\\nOn Monday, the US NSA and his Indian counterpart Ajit Doval are expected to co-chair the meeting to review progress under the iCET which was announced by Biden and Indian Prime Minister Narendra Modi in May 2022 to elevate and expand our strategic technology partnership and defense industrial cooperation between the governments, businesses, and academic institutions of our two countries. .\\n\\nSullivan and Doval are expected to hold the conversation cutting across tech and strategic domains, ranging from AI, quantum computing, semiconductors to space.\\n\\nNotably, this will be the third round of talks on the iCET with first being held in January 2023. For the second meeting in June 2024, Sullivan travelled to India and both the two sides agreed on the next steps in their strategic technology partnership as well as pledged to remove long-standing barriers to strategic trade.\\n\\nSullivan\\u2019s India visit: What\\u2019s on agenda?\\n\\nApart from iCET review meet, Sullivan is also expected to meet PM Modi and External Affairs Minister S Jaishankar.\\n\\nA report by The Indian Express quoted sources as saying that Sullivan\\u2019s upcoming visit will be his farewell call to PM Modi, and will be an important gesture from the Biden administration towards New Delhi about the bipartisan nature of the partnership.\\n\\nIn his upcoming visit, Sullivan is also expected to interact with students and deliver a lecture on the theme of \\u201cThe United States and India: Building a shared future\\u201d in New Delhi on January 6.\\n\\nSullivan\\u2019s India visit comes days after Jaishankar travelled US\\n\\nSullivan\\u2019s visit to India comes barely over a week after Jaishankar met him in the US on December 27.\\n\\nEAM Jaishankar also met Michael Waltz, Sullivan\\u2019s likely successor whom Trump has nominated for the post of national security advisor in his upcoming administration.\\n\\nAdvertisement\\n\\nThe Jaishankar-Waltz meet marked the first high-level contact between the India government and the incoming Trump administration.\\n\\nSullivan has been considered as one of the most influential officials in the outgoing administration in the US. He has played a pivotal role in managing conflicts across the world including the Russia-Ukraine war, Israel\\u2019s war in Gaza and tensions with Iran, as well as the growing assertiveness of China.\\n\\nWith inputs from agencies.\",\n          \"Donald Trump will officially become the President of the United States in January and has some huge plans. The notorious billionaire is coming back into power with the help of fellow billionaire Elon Musk who endorsed the president-elect. The duo has been hanging out a lot together but the question has already started to burn \\u2013 Is their fallout imminent?\\n\\nIt looks like there will be a riff between the two billionaires in these testing times. As of now, this amicable relationship is working in favor of both. But Trump\\u2019s supporters might be growing restless with Elon Musk. Let\\u2019s find out why.\\n\\nOne insider has told Mediaite saying \\u201c100 percent Trump is annoyed\\u201d and that \\u201cThere\\u2019s a Chinese saying: two tigers cannot live on one mountaintop.\\u201d Musk is constantly seen hanging out at Trump\\u2019s Mar-a-Lago and the word \\u2018President Musk\\u2019 quickly started buzzing all over the Internet. Rumor has it that he is more active than expected in the White House transition. It could be that he is crossing the threshold that Trump might have sent for him, and it makes sense as both people are highly ambitious.\\n\\nA few days ago, the Tesla mastermind spoke his mind on the H-1b visa issue and it sparked a huge uproar with the MAGA supporters. Musk tweeted, \\u201cThe reason I\\u2019m in America along with so many critical people who built SpaceX, Tesla and hundreds of other companies that made America strong is because of H1B. Take a big step back and F*** YOURSELF in the face. I will go to war on this issue the likes of which you cannot possibly comprehend.\\u201d\\n\\nThe reason I\\u2019m in America along with so many critical people who built SpaceX, Tesla and hundreds of other companies that made America strong is because of H1B. Take a big step back and F*** YOURSELF in the face. I will go to war on this issue the likes of which you cannot\\u2026 \\u2014 Elon Musk (@elonmusk) December 28, 2024\\n\\nMany MAGA slammed Musk for his contrasting views on the nonimmigrant visa. On the flip side, Trump is supporting his buddy and accepted that he has several H-1B visas on his properties and believes it\\u2019s a great program. But the president-elect is notoriously famous for changing his views as in the past he has been doubtful of the same.\\n\\nThe world\\u2019s richest man and the next President of the United States are good friends and it\\u2019s a lot of power combined. Musk spent $277 million on Trump\\u2019s presidential campaign and he will make sure that people know, as per a source who chose to remain anonymous. He told NBC, \\u201cHe\\u2019s (Elon Musk) behaving as if he\\u2019s a co-president and making sure everyone knows it. And he\\u2019s sure taking lots of credit for the president\\u2019s victory. Bragging about America PAC and X to anyone who will listen. He\\u2019s trying to make President Trump feel indebted to him. And the president is indebted to no one.\\u201d\\n\\n\\u201cIf he (Donald Trump) loses I\\u2019m f*cked\\u2026 how long do you think my prison sentence is gonna be?\\u201d \\u2013 Elon Musk \\ud83d\\ude02 pic.twitter.com/CWy0aPvywJ \\u2014 Sir Doge of the Coin \\u2694\\ufe0f (@dogeofficialceo) October 7, 2024\\n\\nA fallout between the two does not seem far-fetched because when two people as influential as them work together, the difference in opinion rises. As for Trump, the man is confident that Elon Musk becoming the next president is just a rumor and will remain that way. According to him, Musk is not an American and hence, will never be president.\\n\\nTo make matters interesting, a self-proclaimed time traveler who goes by the name Drew Curtis has predicted a major fallout between Donald Trump and Elon Musk. Curtis claims that the president will dump his billionaire friend in the second term despite his contribution to his campaign a promising him a key federal role. Rest, time will tell. For now, Trump is the elected President who will take command in January 2025.\",\n          \"is a senior editor following news across tech, culture, policy, and entertainment. He joined The Verge in 2021 after several years covering news at Engadget.\\n\\nA day after a Cybertruck exploded in the Trump Hotel valet area, law enforcement officials released more details on the progress of their investigation, including the coroner\\u2019s confirmation that the driver was a US Army soldier named Matthew Livelsberger, who died by suicide of a self-inflicted gunshot just before the explosives in the truck\\u2019s bed detonated.\\n\\n\\u201cI\\u2019m comfortable calling it a suicide with a bombing that occurred immediately thereafter,\\u201d said Sheriff Kevin McMahill of the Las Vegas Metropolitan Police Department. \\u201cI\\u2019m not giving it any other labels.\\u201d McMahill also noted that police haven\\u2019t investigated the suspect\\u2019s phones or laptops yet, or identified a possible motive.\\n\\nSeparately, the Denver Gazette reported on text messages Livelsberger sent after renting the truck on December 28th, with videos of the vehicle and boasts about its \\u201cungodly\\u201d speed. The New York Post cited an unnamed source saying he left his home in Colorado the day after Christmas after an argument with his wife. The Independent contacted Livelsberger\\u2019s uncle, who described him to the paper as someone who \\u201cloved the Army\\u201d and \\u201cloved Trump.\\u201d\\n\\nCamera footage of the Cybertruck before the explosion. Image: LMVPD\\n\\nDuring the briefing, law enforcement officials displayed surveillance video of the truck once it arrived in Las Vegas on the morning of January 1st and a map of its eight stops at Tesla charging stations over three days. They also said that people from Tesla were coming to assist in the investigation, including possibly recovering video from the truck\\u2019s built-in cameras.\\n\\nImage: LVMPD\\n\\nWhile the sheriff said investigators had received information about the charging stops from Elon Musk, they are also looking to see who else may have been charging at the same time to possibly find video captured by those vehicles.\\n\\nTuro said on Friday, \\u201cWe do not believe these two individuals would have been flagged by anyone \\u2013 including law enforcement.\\u201d However, \\u201cas an immediate next step while we wait for law enforcement to conclude their investigations, we\\u2019re consulting with national security and counterterrorism experts to learn more about how we can get even better and play our part in helping prevent anything like this from happening ever again,\\u201d writes CEO Andre Haddad.\\n\\nIt has also been reported that both men spent time at the same military base and served in different areas of Afghanistan in 2009. However, the sheriff said that while they\\u2019re not prepared to \\u201crule in or rule out anything at this point,\\u201d there\\u2019s no evidence at this time of a connection between them or a link between the incidents.\"\n        ],\n        \"semantic_type\": \"\",\n        \"description\": \"\"\n      }\n    },\n    {\n      \"column\": \"date\",\n      \"properties\": {\n        \"dtype\": \"string\",\n        \"num_unique_values\": 609,\n        \"samples\": [\n          \"2025-01-02 08:26:04-05:00\",\n          \"2025-01-02 06:00:53+00:00\",\n          \"2024-12-31 20:00:30\"\n        ],\n        \"semantic_type\": \"\",\n        \"description\": \"\"\n      }\n    },\n    {\n      \"column\": \"article_url\",\n      \"properties\": {\n        \"dtype\": \"string\",\n        \"num_unique_values\": 1097,\n        \"samples\": [\n          \"https://www.kens5.com/article/news/nation-world/vehicle-fire-outside-lobby-trump-hotel-las-vegas/507-76d768b3-aa0b-41b5-a69f-90140b4cfcc7\",\n          \"https://www.greenocktelegraph.co.uk/news/national/24832874.judge-sets-trumps-sentencing-date-hush-money-case-signals-no-jail-time\",\n          \"https://www.wthr.com/article/news/nation-world/soldiers-motive-cybertruck-explosion-trumps-las-vegas-hotel-unknown/507-20132952-4fba-4296-9a9a-949ad8e086b8\"\n        ],\n        \"semantic_type\": \"\",\n        \"description\": \"\"\n      }\n    }\n  ]\n}",
       "type": "dataframe",
       "variable_name": "fdf"
      },
      "text/html": [
       "\n",
       "  <div id=\"df-5598b8cd-9d7e-4d88-8605-a23f63b6d9a9\" class=\"colab-df-container\">\n",
       "    <div>\n",
       "<style scoped>\n",
       "    .dataframe tbody tr th:only-of-type {\n",
       "        vertical-align: middle;\n",
       "    }\n",
       "\n",
       "    .dataframe tbody tr th {\n",
       "        vertical-align: top;\n",
       "    }\n",
       "\n",
       "    .dataframe thead th {\n",
       "        text-align: right;\n",
       "    }\n",
       "</style>\n",
       "<table border=\"1\" class=\"dataframe\">\n",
       "  <thead>\n",
       "    <tr style=\"text-align: right;\">\n",
       "      <th></th>\n",
       "      <th>Unnamed: 0</th>\n",
       "      <th>title</th>\n",
       "      <th>text</th>\n",
       "      <th>date</th>\n",
       "      <th>article_url</th>\n",
       "    </tr>\n",
       "  </thead>\n",
       "  <tbody>\n",
       "    <tr>\n",
       "      <th>1</th>\n",
       "      <td>1</td>\n",
       "      <td>Driver of Tesla Cybertruck killed in explosion...</td>\n",
       "      <td>The driver of the Tesla Cybertruck who was kil...</td>\n",
       "      <td>2025-01-02 00:00:00</td>\n",
       "      <td>https://www.nypost.com/2025/01/02/us-news/las-...</td>\n",
       "    </tr>\n",
       "    <tr>\n",
       "      <th>3</th>\n",
       "      <td>3</td>\n",
       "      <td>Deadly attacks rattle US ahead of Trump inaugu...</td>\n",
       "      <td>A gruesome attack on revellers celebrating New...</td>\n",
       "      <td>2025-01-02 00:00:00</td>\n",
       "      <td>https://www.afr.com/world/north-america/deadly...</td>\n",
       "    </tr>\n",
       "    <tr>\n",
       "      <th>4</th>\n",
       "      <td>4</td>\n",
       "      <td>One dies as Tesla cybertruck explodes outside ...</td>\n",
       "      <td>First responders, some wearing Hazmat gear, ga...</td>\n",
       "      <td>2025-01-02 08:16:26+00:00</td>\n",
       "      <td>https://www.punchng.com/one-dies-as-tesla-cybe...</td>\n",
       "    </tr>\n",
       "    <tr>\n",
       "      <th>5</th>\n",
       "      <td>5</td>\n",
       "      <td>Trump Has Promised to Build More Ships. He May...</td>\n",
       "      <td>Sign up for The Big Story newsletter to receiv...</td>\n",
       "      <td>2025-01-04 00:00:00</td>\n",
       "      <td>https://www.gilmermirror.com/2025/01/04/trump-...</td>\n",
       "    </tr>\n",
       "    <tr>\n",
       "      <th>7</th>\n",
       "      <td>7</td>\n",
       "      <td>Trump Loses It Over Flags Flying Half-Staff At...</td>\n",
       "      <td>LOADING ERROR LOADING\\n\\nPresident-elect Donal...</td>\n",
       "      <td>2025-01-04 09:17:11+00:00</td>\n",
       "      <td>https://www.huffingtonpost.co.uk/entry/trump-f...</td>\n",
       "    </tr>\n",
       "  </tbody>\n",
       "</table>\n",
       "</div>\n",
       "    <div class=\"colab-df-buttons\">\n",
       "\n",
       "  <div class=\"colab-df-container\">\n",
       "    <button class=\"colab-df-convert\" onclick=\"convertToInteractive('df-5598b8cd-9d7e-4d88-8605-a23f63b6d9a9')\"\n",
       "            title=\"Convert this dataframe to an interactive table.\"\n",
       "            style=\"display:none;\">\n",
       "\n",
       "  <svg xmlns=\"http://www.w3.org/2000/svg\" height=\"24px\" viewBox=\"0 -960 960 960\">\n",
       "    <path d=\"M120-120v-720h720v720H120Zm60-500h600v-160H180v160Zm220 220h160v-160H400v160Zm0 220h160v-160H400v160ZM180-400h160v-160H180v160Zm440 0h160v-160H620v160ZM180-180h160v-160H180v160Zm440 0h160v-160H620v160Z\"/>\n",
       "  </svg>\n",
       "    </button>\n",
       "\n",
       "  <style>\n",
       "    .colab-df-container {\n",
       "      display:flex;\n",
       "      gap: 12px;\n",
       "    }\n",
       "\n",
       "    .colab-df-convert {\n",
       "      background-color: #E8F0FE;\n",
       "      border: none;\n",
       "      border-radius: 50%;\n",
       "      cursor: pointer;\n",
       "      display: none;\n",
       "      fill: #1967D2;\n",
       "      height: 32px;\n",
       "      padding: 0 0 0 0;\n",
       "      width: 32px;\n",
       "    }\n",
       "\n",
       "    .colab-df-convert:hover {\n",
       "      background-color: #E2EBFA;\n",
       "      box-shadow: 0px 1px 2px rgba(60, 64, 67, 0.3), 0px 1px 3px 1px rgba(60, 64, 67, 0.15);\n",
       "      fill: #174EA6;\n",
       "    }\n",
       "\n",
       "    .colab-df-buttons div {\n",
       "      margin-bottom: 4px;\n",
       "    }\n",
       "\n",
       "    [theme=dark] .colab-df-convert {\n",
       "      background-color: #3B4455;\n",
       "      fill: #D2E3FC;\n",
       "    }\n",
       "\n",
       "    [theme=dark] .colab-df-convert:hover {\n",
       "      background-color: #434B5C;\n",
       "      box-shadow: 0px 1px 3px 1px rgba(0, 0, 0, 0.15);\n",
       "      filter: drop-shadow(0px 1px 2px rgba(0, 0, 0, 0.3));\n",
       "      fill: #FFFFFF;\n",
       "    }\n",
       "  </style>\n",
       "\n",
       "    <script>\n",
       "      const buttonEl =\n",
       "        document.querySelector('#df-5598b8cd-9d7e-4d88-8605-a23f63b6d9a9 button.colab-df-convert');\n",
       "      buttonEl.style.display =\n",
       "        google.colab.kernel.accessAllowed ? 'block' : 'none';\n",
       "\n",
       "      async function convertToInteractive(key) {\n",
       "        const element = document.querySelector('#df-5598b8cd-9d7e-4d88-8605-a23f63b6d9a9');\n",
       "        const dataTable =\n",
       "          await google.colab.kernel.invokeFunction('convertToInteractive',\n",
       "                                                    [key], {});\n",
       "        if (!dataTable) return;\n",
       "\n",
       "        const docLinkHtml = 'Like what you see? Visit the ' +\n",
       "          '<a target=\"_blank\" href=https://colab.research.google.com/notebooks/data_table.ipynb>data table notebook</a>'\n",
       "          + ' to learn more about interactive tables.';\n",
       "        element.innerHTML = '';\n",
       "        dataTable['output_type'] = 'display_data';\n",
       "        await google.colab.output.renderOutput(dataTable, element);\n",
       "        const docLink = document.createElement('div');\n",
       "        docLink.innerHTML = docLinkHtml;\n",
       "        element.appendChild(docLink);\n",
       "      }\n",
       "    </script>\n",
       "  </div>\n",
       "\n",
       "\n",
       "<div id=\"df-d9f802b3-ab7b-4c65-8c7c-69c30b7f35d2\">\n",
       "  <button class=\"colab-df-quickchart\" onclick=\"quickchart('df-d9f802b3-ab7b-4c65-8c7c-69c30b7f35d2')\"\n",
       "            title=\"Suggest charts\"\n",
       "            style=\"display:none;\">\n",
       "\n",
       "<svg xmlns=\"http://www.w3.org/2000/svg\" height=\"24px\"viewBox=\"0 0 24 24\"\n",
       "     width=\"24px\">\n",
       "    <g>\n",
       "        <path d=\"M19 3H5c-1.1 0-2 .9-2 2v14c0 1.1.9 2 2 2h14c1.1 0 2-.9 2-2V5c0-1.1-.9-2-2-2zM9 17H7v-7h2v7zm4 0h-2V7h2v10zm4 0h-2v-4h2v4z\"/>\n",
       "    </g>\n",
       "</svg>\n",
       "  </button>\n",
       "\n",
       "<style>\n",
       "  .colab-df-quickchart {\n",
       "      --bg-color: #E8F0FE;\n",
       "      --fill-color: #1967D2;\n",
       "      --hover-bg-color: #E2EBFA;\n",
       "      --hover-fill-color: #174EA6;\n",
       "      --disabled-fill-color: #AAA;\n",
       "      --disabled-bg-color: #DDD;\n",
       "  }\n",
       "\n",
       "  [theme=dark] .colab-df-quickchart {\n",
       "      --bg-color: #3B4455;\n",
       "      --fill-color: #D2E3FC;\n",
       "      --hover-bg-color: #434B5C;\n",
       "      --hover-fill-color: #FFFFFF;\n",
       "      --disabled-bg-color: #3B4455;\n",
       "      --disabled-fill-color: #666;\n",
       "  }\n",
       "\n",
       "  .colab-df-quickchart {\n",
       "    background-color: var(--bg-color);\n",
       "    border: none;\n",
       "    border-radius: 50%;\n",
       "    cursor: pointer;\n",
       "    display: none;\n",
       "    fill: var(--fill-color);\n",
       "    height: 32px;\n",
       "    padding: 0;\n",
       "    width: 32px;\n",
       "  }\n",
       "\n",
       "  .colab-df-quickchart:hover {\n",
       "    background-color: var(--hover-bg-color);\n",
       "    box-shadow: 0 1px 2px rgba(60, 64, 67, 0.3), 0 1px 3px 1px rgba(60, 64, 67, 0.15);\n",
       "    fill: var(--button-hover-fill-color);\n",
       "  }\n",
       "\n",
       "  .colab-df-quickchart-complete:disabled,\n",
       "  .colab-df-quickchart-complete:disabled:hover {\n",
       "    background-color: var(--disabled-bg-color);\n",
       "    fill: var(--disabled-fill-color);\n",
       "    box-shadow: none;\n",
       "  }\n",
       "\n",
       "  .colab-df-spinner {\n",
       "    border: 2px solid var(--fill-color);\n",
       "    border-color: transparent;\n",
       "    border-bottom-color: var(--fill-color);\n",
       "    animation:\n",
       "      spin 1s steps(1) infinite;\n",
       "  }\n",
       "\n",
       "  @keyframes spin {\n",
       "    0% {\n",
       "      border-color: transparent;\n",
       "      border-bottom-color: var(--fill-color);\n",
       "      border-left-color: var(--fill-color);\n",
       "    }\n",
       "    20% {\n",
       "      border-color: transparent;\n",
       "      border-left-color: var(--fill-color);\n",
       "      border-top-color: var(--fill-color);\n",
       "    }\n",
       "    30% {\n",
       "      border-color: transparent;\n",
       "      border-left-color: var(--fill-color);\n",
       "      border-top-color: var(--fill-color);\n",
       "      border-right-color: var(--fill-color);\n",
       "    }\n",
       "    40% {\n",
       "      border-color: transparent;\n",
       "      border-right-color: var(--fill-color);\n",
       "      border-top-color: var(--fill-color);\n",
       "    }\n",
       "    60% {\n",
       "      border-color: transparent;\n",
       "      border-right-color: var(--fill-color);\n",
       "    }\n",
       "    80% {\n",
       "      border-color: transparent;\n",
       "      border-right-color: var(--fill-color);\n",
       "      border-bottom-color: var(--fill-color);\n",
       "    }\n",
       "    90% {\n",
       "      border-color: transparent;\n",
       "      border-bottom-color: var(--fill-color);\n",
       "    }\n",
       "  }\n",
       "</style>\n",
       "\n",
       "  <script>\n",
       "    async function quickchart(key) {\n",
       "      const quickchartButtonEl =\n",
       "        document.querySelector('#' + key + ' button');\n",
       "      quickchartButtonEl.disabled = true;  // To prevent multiple clicks.\n",
       "      quickchartButtonEl.classList.add('colab-df-spinner');\n",
       "      try {\n",
       "        const charts = await google.colab.kernel.invokeFunction(\n",
       "            'suggestCharts', [key], {});\n",
       "      } catch (error) {\n",
       "        console.error('Error during call to suggestCharts:', error);\n",
       "      }\n",
       "      quickchartButtonEl.classList.remove('colab-df-spinner');\n",
       "      quickchartButtonEl.classList.add('colab-df-quickchart-complete');\n",
       "    }\n",
       "    (() => {\n",
       "      let quickchartButtonEl =\n",
       "        document.querySelector('#df-d9f802b3-ab7b-4c65-8c7c-69c30b7f35d2 button');\n",
       "      quickchartButtonEl.style.display =\n",
       "        google.colab.kernel.accessAllowed ? 'block' : 'none';\n",
       "    })();\n",
       "  </script>\n",
       "</div>\n",
       "\n",
       "    </div>\n",
       "  </div>\n"
      ],
      "text/plain": [
       "   Unnamed: 0                                              title  \\\n",
       "1           1  Driver of Tesla Cybertruck killed in explosion...   \n",
       "3           3  Deadly attacks rattle US ahead of Trump inaugu...   \n",
       "4           4  One dies as Tesla cybertruck explodes outside ...   \n",
       "5           5  Trump Has Promised to Build More Ships. He May...   \n",
       "7           7  Trump Loses It Over Flags Flying Half-Staff At...   \n",
       "\n",
       "                                                text  \\\n",
       "1  The driver of the Tesla Cybertruck who was kil...   \n",
       "3  A gruesome attack on revellers celebrating New...   \n",
       "4  First responders, some wearing Hazmat gear, ga...   \n",
       "5  Sign up for The Big Story newsletter to receiv...   \n",
       "7  LOADING ERROR LOADING\\n\\nPresident-elect Donal...   \n",
       "\n",
       "                        date  \\\n",
       "1        2025-01-02 00:00:00   \n",
       "3        2025-01-02 00:00:00   \n",
       "4  2025-01-02 08:16:26+00:00   \n",
       "5        2025-01-04 00:00:00   \n",
       "7  2025-01-04 09:17:11+00:00   \n",
       "\n",
       "                                         article_url  \n",
       "1  https://www.nypost.com/2025/01/02/us-news/las-...  \n",
       "3  https://www.afr.com/world/north-america/deadly...  \n",
       "4  https://www.punchng.com/one-dies-as-tesla-cybe...  \n",
       "5  https://www.gilmermirror.com/2025/01/04/trump-...  \n",
       "7  https://www.huffingtonpost.co.uk/entry/trump-f...  "
      ]
     },
     "execution_count": 60,
     "metadata": {},
     "output_type": "execute_result"
    }
   ],
   "source": [
    "# fdf = pd.read_csv('combined_gdelt.csv')\n",
    "# fdf = fdf.dropna(subset=['date'])\n",
    "fdf.head()"
   ]
  }
 ],
 "metadata": {
  "colab": {
   "provenance": []
  },
  "kernelspec": {
   "display_name": "Python 3 (ipykernel)",
   "language": "python",
   "name": "python3"
  },
  "language_info": {
   "codemirror_mode": {
    "name": "ipython",
    "version": 3
   },
   "file_extension": ".py",
   "mimetype": "text/x-python",
   "name": "python",
   "nbconvert_exporter": "python",
   "pygments_lexer": "ipython3",
   "version": "3.11.5"
  }
 },
 "nbformat": 4,
 "nbformat_minor": 5
}
